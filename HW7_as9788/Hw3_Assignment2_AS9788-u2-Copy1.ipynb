{
 "cells": [
  {
   "cell_type": "code",
   "execution_count": 8,
   "metadata": {
    "scrolled": false
   },
   "outputs": [
    {
     "name": "stdout",
     "output_type": "stream",
     "text": [
      "Populating the interactive namespace from numpy and matplotlib\n",
      "{'TERM_PROGRAM_VERSION': '388.1.1', 'PUI2017': '/Users/seastar/PUI2017', 'LOGNAME': 'seastar', 'USER': 'seastar', 'PATH': '/Users/seastar/anaconda2/bin:/Users/seastar/anaconda2/bin:/usr/local/bin:/usr/bin:/bin:/usr/sbin:/sbin:/Users/seastar', 'HOME': '/Users/seastar', 'TERM_PROGRAM': 'Apple_Terminal', 'LANG': 'en_US.UTF-8', 'TERM': 'xterm-color', 'Apple_PubSub_Socket_Render': '/private/tmp/com.apple.launchd.AFn6QhLT4h/Render', 'SHLVL': '1', 'XPC_FLAGS': '0x0', 'TMPDIR': '/var/folders/8g/9zfr1gk54t1g_cg12h9q082c0000gn/T/', 'TERM_SESSION_ID': '44EED182-0ABF-47AF-9F25-54875B3E30DF', 'XPC_SERVICE_NAME': '0', 'JPY_PARENT_PID': '3542', 'SSH_AUTH_SOCK': '/private/tmp/com.apple.launchd.n08HOnU75m/Listeners', 'SHELL': '/bin/bash', 'GIT_PAGER': 'cat', '_': '/Users/seastar/anaconda2/bin/jupyter', 'MPLBACKEND': 'module://ipykernel.pylab.backend_inline', 'OLDPWD': '/Users/seastar/PUI2017/database_lab', 'CLICOLOR': '1', '__CF_USER_TEXT_ENCODING': '0x1F5:0x0:0x0', 'PUIDATA': '/Users/seastar/PUI2017/PUIDATA', 'PWD': '/Users/seastar/PUI2017', 'PAGER': 'cat'}\n",
      "/Users/seastar/PUI2017/PUIDATA\n"
     ]
    }
   ],
   "source": [
    "#Group HW with Assel @AD4336\n",
    "\n",
    "# HW3 Assignment 2 Citibike Data using example notebook \n",
    "\n",
    "#IDEA:\n",
    "#Customers (short term passes) are less likely than Subscribers (longer term passes) to choose biking for commuting\n",
    "#NULL HYPOTHESIS:\n",
    "#The ratio of Subscribers biking on weekends over Subscribers biking on weekdays is the same or higher than the ratio \n",
    "#of Customers biking over weekends to Customers biking on weekdays\n",
    "#ALLTERNATIVE HYPOTEHSIS: \n",
    "#The ratio of Subscribers biking on weekends over Subscribers biking on weekdays is lower than the ratio of Customers biking \n",
    "#over weekends to Customers biking on weekdays \n",
    "\n",
    "from __future__  import print_function, division\n",
    "import pylab as pl\n",
    "import pandas as pd\n",
    "import numpy as np\n",
    "import os\n",
    "\n",
    "%pylab inline\n",
    "print (os.environ)\n",
    "#print (os.environ.get('PATH'))\n",
    "\n",
    "#print(os.environ.get('HOME'))\n",
    "\n",
    "print(os.environ.get('PUIDATA'))\n",
    "\n",
    "#print os.environ['HOME']\n",
    "#if os.getenv ('PATH') not in os.environ:\n",
    "#print (\"Must set env variable PUI2017\")\n",
    "if os.environ.get ('PUIDATA') is None:\n",
    "    print (\"Must set env variable PUIDATA\")\n",
    "\n",
    "\n",
    "#s = json.load( open(os.getenv('PUI2017') + \"/fbb_matplotlibrc.json\") )\n",
    "#pl.rcParams.update(s)\n",
    "\n",
    "#print (os.environ)"
   ]
  },
  {
   "cell_type": "code",
   "execution_count": null,
   "metadata": {
    "collapsed": true
   },
   "outputs": [],
   "source": [
    "#%env\n",
    "#print (os.environ)"
   ]
  },
  {
   "cell_type": "code",
   "execution_count": null,
   "metadata": {
    "collapsed": true
   },
   "outputs": [],
   "source": []
  },
  {
   "cell_type": "code",
   "execution_count": null,
   "metadata": {
    "collapsed": true
   },
   "outputs": [],
   "source": [
    "#download the two Citibike dataset files \n",
    "os.system(\"curl -O https://s3.amazonaws.com/tripdata/201601-citibike-tripdata.zip\")\n",
    "\n",
    "os.system(\"curl -O https://s3.amazonaws.com/tripdata/201607-citibike-tripdata.zip\")\n",
    "\n"
   ]
  },
  {
   "cell_type": "code",
   "execution_count": null,
   "metadata": {
    "collapsed": true
   },
   "outputs": [],
   "source": [
    "os.system(\"ls -l 201601-citibike-tripdata.zip\")\n",
    "                ###  To move it, use the os.system() functions to run bash commands with arguments\n",
    "#print(os.getenv(\"PUIDATA\"))\n",
    "#os.system(\"mv 201601-citibike-tripdata.zip\" + str(os.getenv(\"PUIDATA\")))\n",
    "\n",
    "%mv 201601-citibike-tripdata.zip PUIDATA\n",
    "#ls -l PUIDATA\n",
    "#os.system(\"mv 201607-citibike-tripdata.zip\" + os.getenv(\"PUIDATA\"))\n",
    "\n",
    "            ### unzip the csv \n",
    "#os.system(\"unzip \" + os.getenv(\"PUIDATA\") + \"/201601-citibike-tripdata.zip\")\n",
    "#os.system(\"unzip \" + os.getenv(\"PUIDATA\") + \"/201607-citibike-tripdata.zip\")"
   ]
  },
  {
   "cell_type": "code",
   "execution_count": null,
   "metadata": {
    "collapsed": true
   },
   "outputs": [],
   "source": [
    "os.system(\"ls -l 201601-citibike-tripdata.zip\")"
   ]
  },
  {
   "cell_type": "code",
   "execution_count": 12,
   "metadata": {
    "collapsed": true
   },
   "outputs": [],
   "source": [
    "%mv 201607-citibike-tripdata.zip PUIDATA\n",
    "#moved the file from download dir to PUIDATA "
   ]
  },
  {
   "cell_type": "code",
   "execution_count": 13,
   "metadata": {},
   "outputs": [
    {
     "data": {
      "text/plain": [
       "2304"
      ]
     },
     "execution_count": 13,
     "metadata": {},
     "output_type": "execute_result"
    }
   ],
   "source": [
    "### unzip the csv \n",
    "os.system(\"unzip \" + str(os.getenv(\"PUIDATA\")) + \"/201601-citibike-tripdata.zip\" + \" -d \" +str(os.getenv(\"PUIDATA\")) )\n",
    "os.system(\"unzip \" + str(os.getenv(\"PUIDATA\")) + \"/201607-citibike-tripdata.zip\" + \" -d \" +str(os.getenv(\"PUIDATA\")) )"
   ]
  },
  {
   "cell_type": "code",
   "execution_count": 9,
   "metadata": {},
   "outputs": [
    {
     "data": {
      "text/html": [
       "<div>\n",
       "<style>\n",
       "    .dataframe thead tr:only-child th {\n",
       "        text-align: right;\n",
       "    }\n",
       "\n",
       "    .dataframe thead th {\n",
       "        text-align: left;\n",
       "    }\n",
       "\n",
       "    .dataframe tbody tr th {\n",
       "        vertical-align: top;\n",
       "    }\n",
       "</style>\n",
       "<table border=\"1\" class=\"dataframe\">\n",
       "  <thead>\n",
       "    <tr style=\"text-align: right;\">\n",
       "      <th></th>\n",
       "      <th>tripduration</th>\n",
       "      <th>starttime</th>\n",
       "      <th>stoptime</th>\n",
       "      <th>start station id</th>\n",
       "      <th>start station name</th>\n",
       "      <th>start station latitude</th>\n",
       "      <th>start station longitude</th>\n",
       "      <th>end station id</th>\n",
       "      <th>end station name</th>\n",
       "      <th>end station latitude</th>\n",
       "      <th>end station longitude</th>\n",
       "      <th>bikeid</th>\n",
       "      <th>usertype</th>\n",
       "      <th>birth year</th>\n",
       "      <th>gender</th>\n",
       "      <th>date</th>\n",
       "    </tr>\n",
       "  </thead>\n",
       "  <tbody>\n",
       "    <tr>\n",
       "      <th>0</th>\n",
       "      <td>923</td>\n",
       "      <td>1/1/2016 00:00:41</td>\n",
       "      <td>1/1/2016 00:16:04</td>\n",
       "      <td>268</td>\n",
       "      <td>Howard St &amp; Centre St</td>\n",
       "      <td>40.719105</td>\n",
       "      <td>-73.999733</td>\n",
       "      <td>3002</td>\n",
       "      <td>South End Ave &amp; Liberty St</td>\n",
       "      <td>40.711512</td>\n",
       "      <td>-74.015756</td>\n",
       "      <td>22285</td>\n",
       "      <td>Subscriber</td>\n",
       "      <td>1958.0</td>\n",
       "      <td>1</td>\n",
       "      <td>2016-01-01 00:00:41</td>\n",
       "    </tr>\n",
       "    <tr>\n",
       "      <th>1</th>\n",
       "      <td>379</td>\n",
       "      <td>1/1/2016 00:00:45</td>\n",
       "      <td>1/1/2016 00:07:04</td>\n",
       "      <td>476</td>\n",
       "      <td>E 31 St &amp; 3 Ave</td>\n",
       "      <td>40.743943</td>\n",
       "      <td>-73.979661</td>\n",
       "      <td>498</td>\n",
       "      <td>Broadway &amp; W 32 St</td>\n",
       "      <td>40.748549</td>\n",
       "      <td>-73.988084</td>\n",
       "      <td>17827</td>\n",
       "      <td>Subscriber</td>\n",
       "      <td>1969.0</td>\n",
       "      <td>1</td>\n",
       "      <td>2016-01-01 00:00:45</td>\n",
       "    </tr>\n",
       "    <tr>\n",
       "      <th>2</th>\n",
       "      <td>589</td>\n",
       "      <td>1/1/2016 00:00:48</td>\n",
       "      <td>1/1/2016 00:10:37</td>\n",
       "      <td>489</td>\n",
       "      <td>10 Ave &amp; W 28 St</td>\n",
       "      <td>40.750664</td>\n",
       "      <td>-74.001768</td>\n",
       "      <td>284</td>\n",
       "      <td>Greenwich Ave &amp; 8 Ave</td>\n",
       "      <td>40.739017</td>\n",
       "      <td>-74.002638</td>\n",
       "      <td>21997</td>\n",
       "      <td>Subscriber</td>\n",
       "      <td>1982.0</td>\n",
       "      <td>2</td>\n",
       "      <td>2016-01-01 00:00:48</td>\n",
       "    </tr>\n",
       "    <tr>\n",
       "      <th>3</th>\n",
       "      <td>889</td>\n",
       "      <td>1/1/2016 00:01:06</td>\n",
       "      <td>1/1/2016 00:15:56</td>\n",
       "      <td>268</td>\n",
       "      <td>Howard St &amp; Centre St</td>\n",
       "      <td>40.719105</td>\n",
       "      <td>-73.999733</td>\n",
       "      <td>3002</td>\n",
       "      <td>South End Ave &amp; Liberty St</td>\n",
       "      <td>40.711512</td>\n",
       "      <td>-74.015756</td>\n",
       "      <td>22794</td>\n",
       "      <td>Subscriber</td>\n",
       "      <td>1961.0</td>\n",
       "      <td>2</td>\n",
       "      <td>2016-01-01 00:01:06</td>\n",
       "    </tr>\n",
       "    <tr>\n",
       "      <th>4</th>\n",
       "      <td>1480</td>\n",
       "      <td>1/1/2016 00:01:12</td>\n",
       "      <td>1/1/2016 00:25:52</td>\n",
       "      <td>2006</td>\n",
       "      <td>Central Park S &amp; 6 Ave</td>\n",
       "      <td>40.765909</td>\n",
       "      <td>-73.976342</td>\n",
       "      <td>2006</td>\n",
       "      <td>Central Park S &amp; 6 Ave</td>\n",
       "      <td>40.765909</td>\n",
       "      <td>-73.976342</td>\n",
       "      <td>14562</td>\n",
       "      <td>Subscriber</td>\n",
       "      <td>1952.0</td>\n",
       "      <td>1</td>\n",
       "      <td>2016-01-01 00:01:12</td>\n",
       "    </tr>\n",
       "  </tbody>\n",
       "</table>\n",
       "</div>"
      ],
      "text/plain": [
       "   tripduration          starttime           stoptime  start station id  \\\n",
       "0           923  1/1/2016 00:00:41  1/1/2016 00:16:04               268   \n",
       "1           379  1/1/2016 00:00:45  1/1/2016 00:07:04               476   \n",
       "2           589  1/1/2016 00:00:48  1/1/2016 00:10:37               489   \n",
       "3           889  1/1/2016 00:01:06  1/1/2016 00:15:56               268   \n",
       "4          1480  1/1/2016 00:01:12  1/1/2016 00:25:52              2006   \n",
       "\n",
       "       start station name  start station latitude  start station longitude  \\\n",
       "0   Howard St & Centre St               40.719105               -73.999733   \n",
       "1         E 31 St & 3 Ave               40.743943               -73.979661   \n",
       "2        10 Ave & W 28 St               40.750664               -74.001768   \n",
       "3   Howard St & Centre St               40.719105               -73.999733   \n",
       "4  Central Park S & 6 Ave               40.765909               -73.976342   \n",
       "\n",
       "   end station id            end station name  end station latitude  \\\n",
       "0            3002  South End Ave & Liberty St             40.711512   \n",
       "1             498          Broadway & W 32 St             40.748549   \n",
       "2             284       Greenwich Ave & 8 Ave             40.739017   \n",
       "3            3002  South End Ave & Liberty St             40.711512   \n",
       "4            2006      Central Park S & 6 Ave             40.765909   \n",
       "\n",
       "   end station longitude  bikeid    usertype  birth year  gender  \\\n",
       "0             -74.015756   22285  Subscriber      1958.0       1   \n",
       "1             -73.988084   17827  Subscriber      1969.0       1   \n",
       "2             -74.002638   21997  Subscriber      1982.0       2   \n",
       "3             -74.015756   22794  Subscriber      1961.0       2   \n",
       "4             -73.976342   14562  Subscriber      1952.0       1   \n",
       "\n",
       "                 date  \n",
       "0 2016-01-01 00:00:41  \n",
       "1 2016-01-01 00:00:45  \n",
       "2 2016-01-01 00:00:48  \n",
       "3 2016-01-01 00:01:06  \n",
       "4 2016-01-01 00:01:12  "
      ]
     },
     "execution_count": 9,
     "metadata": {},
     "output_type": "execute_result"
    }
   ],
   "source": [
    "#File 1 \n",
    "\n",
    "df = pd.read_csv(os.getenv(\"PUIDATA\") + \"/201601-citibike-tripdata.csv\")\n",
    "# df is the dataframe where the content of the csv file is stored\n",
    "df['date'] = pd.to_datetime(df['starttime'])\n",
    "# note that with dataframes I can refer to variables as dictionary keys, \n",
    "# i.e. df['starttime'] or as attributes: df.starttime. \n",
    "df.head()\n"
   ]
  },
  {
   "cell_type": "code",
   "execution_count": 10,
   "metadata": {},
   "outputs": [
    {
     "data": {
      "text/html": [
       "<div>\n",
       "<style>\n",
       "    .dataframe thead tr:only-child th {\n",
       "        text-align: right;\n",
       "    }\n",
       "\n",
       "    .dataframe thead th {\n",
       "        text-align: left;\n",
       "    }\n",
       "\n",
       "    .dataframe tbody tr th {\n",
       "        vertical-align: top;\n",
       "    }\n",
       "</style>\n",
       "<table border=\"1\" class=\"dataframe\">\n",
       "  <thead>\n",
       "    <tr style=\"text-align: right;\">\n",
       "      <th></th>\n",
       "      <th>usertype</th>\n",
       "      <th>date</th>\n",
       "    </tr>\n",
       "  </thead>\n",
       "  <tbody>\n",
       "    <tr>\n",
       "      <th>0</th>\n",
       "      <td>Subscriber</td>\n",
       "      <td>2016-01-01 00:00:41</td>\n",
       "    </tr>\n",
       "    <tr>\n",
       "      <th>1</th>\n",
       "      <td>Subscriber</td>\n",
       "      <td>2016-01-01 00:00:45</td>\n",
       "    </tr>\n",
       "    <tr>\n",
       "      <th>2</th>\n",
       "      <td>Subscriber</td>\n",
       "      <td>2016-01-01 00:00:48</td>\n",
       "    </tr>\n",
       "    <tr>\n",
       "      <th>3</th>\n",
       "      <td>Subscriber</td>\n",
       "      <td>2016-01-01 00:01:06</td>\n",
       "    </tr>\n",
       "    <tr>\n",
       "      <th>4</th>\n",
       "      <td>Subscriber</td>\n",
       "      <td>2016-01-01 00:01:12</td>\n",
       "    </tr>\n",
       "  </tbody>\n",
       "</table>\n",
       "</div>"
      ],
      "text/plain": [
       "     usertype                date\n",
       "0  Subscriber 2016-01-01 00:00:41\n",
       "1  Subscriber 2016-01-01 00:00:45\n",
       "2  Subscriber 2016-01-01 00:00:48\n",
       "3  Subscriber 2016-01-01 00:01:06\n",
       "4  Subscriber 2016-01-01 00:01:12"
      ]
     },
     "execution_count": 10,
     "metadata": {},
     "output_type": "execute_result"
    }
   ],
   "source": [
    "df.drop(['tripduration', 'starttime', 'stoptime', 'start station id',\n",
    "       'start station name', 'start station latitude',\n",
    "       'start station longitude', 'end station id', 'end station name',\n",
    "       'end station latitude', 'end station longitude', 'bikeid',\n",
    "       'birth year', 'gender'], axis=1, inplace=True)\n",
    "\n",
    "df.head()"
   ]
  },
  {
   "cell_type": "code",
   "execution_count": 34,
   "metadata": {},
   "outputs": [
    {
     "data": {
      "text/html": [
       "<div>\n",
       "<style>\n",
       "    .dataframe thead tr:only-child th {\n",
       "        text-align: right;\n",
       "    }\n",
       "\n",
       "    .dataframe thead th {\n",
       "        text-align: left;\n",
       "    }\n",
       "\n",
       "    .dataframe tbody tr th {\n",
       "        vertical-align: top;\n",
       "    }\n",
       "</style>\n",
       "<table border=\"1\" class=\"dataframe\">\n",
       "  <thead>\n",
       "    <tr style=\"text-align: right;\">\n",
       "      <th></th>\n",
       "      <th>usertype</th>\n",
       "      <th>date</th>\n",
       "    </tr>\n",
       "  </thead>\n",
       "  <tbody>\n",
       "    <tr>\n",
       "      <th>count</th>\n",
       "      <td>509478</td>\n",
       "      <td>509478</td>\n",
       "    </tr>\n",
       "    <tr>\n",
       "      <th>unique</th>\n",
       "      <td>2</td>\n",
       "      <td>420479</td>\n",
       "    </tr>\n",
       "    <tr>\n",
       "      <th>top</th>\n",
       "      <td>Subscriber</td>\n",
       "      <td>2016-01-12 18:56:25</td>\n",
       "    </tr>\n",
       "    <tr>\n",
       "      <th>freq</th>\n",
       "      <td>484935</td>\n",
       "      <td>7</td>\n",
       "    </tr>\n",
       "    <tr>\n",
       "      <th>first</th>\n",
       "      <td>NaN</td>\n",
       "      <td>2016-01-01 00:00:41</td>\n",
       "    </tr>\n",
       "    <tr>\n",
       "      <th>last</th>\n",
       "      <td>NaN</td>\n",
       "      <td>2016-01-31 23:59:26</td>\n",
       "    </tr>\n",
       "  </tbody>\n",
       "</table>\n",
       "</div>"
      ],
      "text/plain": [
       "          usertype                 date\n",
       "count       509478               509478\n",
       "unique           2               420479\n",
       "top     Subscriber  2016-01-12 18:56:25\n",
       "freq        484935                    7\n",
       "first          NaN  2016-01-01 00:00:41\n",
       "last           NaN  2016-01-31 23:59:26"
      ]
     },
     "execution_count": 34,
     "metadata": {},
     "output_type": "execute_result"
    }
   ],
   "source": [
    "df.describe()"
   ]
  },
  {
   "cell_type": "code",
   "execution_count": 38,
   "metadata": {},
   "outputs": [
    {
     "data": {
      "text/plain": [
       "False"
      ]
     },
     "execution_count": 38,
     "metadata": {},
     "output_type": "execute_result"
    }
   ],
   "source": [
    "#print (df.isnull().any(axis=1))\n",
    "df.isnull().any().any()"
   ]
  },
  {
   "cell_type": "code",
   "execution_count": 11,
   "metadata": {},
   "outputs": [
    {
     "data": {
      "text/html": [
       "<div>\n",
       "<style>\n",
       "    .dataframe thead tr:only-child th {\n",
       "        text-align: right;\n",
       "    }\n",
       "\n",
       "    .dataframe thead th {\n",
       "        text-align: left;\n",
       "    }\n",
       "\n",
       "    .dataframe tbody tr th {\n",
       "        vertical-align: top;\n",
       "    }\n",
       "</style>\n",
       "<table border=\"1\" class=\"dataframe\">\n",
       "  <thead>\n",
       "    <tr style=\"text-align: right;\">\n",
       "      <th></th>\n",
       "      <th>tripduration</th>\n",
       "      <th>starttime</th>\n",
       "      <th>stoptime</th>\n",
       "      <th>start station id</th>\n",
       "      <th>start station name</th>\n",
       "      <th>start station latitude</th>\n",
       "      <th>start station longitude</th>\n",
       "      <th>end station id</th>\n",
       "      <th>end station name</th>\n",
       "      <th>end station latitude</th>\n",
       "      <th>end station longitude</th>\n",
       "      <th>bikeid</th>\n",
       "      <th>usertype</th>\n",
       "      <th>birth year</th>\n",
       "      <th>gender</th>\n",
       "      <th>date</th>\n",
       "    </tr>\n",
       "  </thead>\n",
       "  <tbody>\n",
       "    <tr>\n",
       "      <th>0</th>\n",
       "      <td>704</td>\n",
       "      <td>7/1/2016 00:00:02</td>\n",
       "      <td>7/1/2016 00:11:47</td>\n",
       "      <td>459</td>\n",
       "      <td>W 20 St &amp; 11 Ave</td>\n",
       "      <td>40.746745</td>\n",
       "      <td>-74.007756</td>\n",
       "      <td>347</td>\n",
       "      <td>Greenwich St &amp; W Houston St</td>\n",
       "      <td>40.728846</td>\n",
       "      <td>-74.008591</td>\n",
       "      <td>17431</td>\n",
       "      <td>Customer</td>\n",
       "      <td>NaN</td>\n",
       "      <td>0</td>\n",
       "      <td>2016-07-01 00:00:02</td>\n",
       "    </tr>\n",
       "    <tr>\n",
       "      <th>1</th>\n",
       "      <td>492</td>\n",
       "      <td>7/1/2016 00:00:18</td>\n",
       "      <td>7/1/2016 00:08:31</td>\n",
       "      <td>293</td>\n",
       "      <td>Lafayette St &amp; E 8 St</td>\n",
       "      <td>40.730287</td>\n",
       "      <td>-73.990765</td>\n",
       "      <td>466</td>\n",
       "      <td>W 25 St &amp; 6 Ave</td>\n",
       "      <td>40.743954</td>\n",
       "      <td>-73.991449</td>\n",
       "      <td>24159</td>\n",
       "      <td>Subscriber</td>\n",
       "      <td>1984.0</td>\n",
       "      <td>1</td>\n",
       "      <td>2016-07-01 00:00:18</td>\n",
       "    </tr>\n",
       "    <tr>\n",
       "      <th>2</th>\n",
       "      <td>191</td>\n",
       "      <td>7/1/2016 00:00:19</td>\n",
       "      <td>7/1/2016 00:03:31</td>\n",
       "      <td>3090</td>\n",
       "      <td>N 8 St &amp; Driggs Ave</td>\n",
       "      <td>40.717746</td>\n",
       "      <td>-73.956001</td>\n",
       "      <td>3107</td>\n",
       "      <td>Bedford Ave &amp; Nassau Ave</td>\n",
       "      <td>40.723117</td>\n",
       "      <td>-73.952123</td>\n",
       "      <td>16345</td>\n",
       "      <td>Subscriber</td>\n",
       "      <td>1986.0</td>\n",
       "      <td>2</td>\n",
       "      <td>2016-07-01 00:00:19</td>\n",
       "    </tr>\n",
       "    <tr>\n",
       "      <th>3</th>\n",
       "      <td>687</td>\n",
       "      <td>7/1/2016 00:00:24</td>\n",
       "      <td>7/1/2016 00:11:52</td>\n",
       "      <td>459</td>\n",
       "      <td>W 20 St &amp; 11 Ave</td>\n",
       "      <td>40.746745</td>\n",
       "      <td>-74.007756</td>\n",
       "      <td>347</td>\n",
       "      <td>Greenwich St &amp; W Houston St</td>\n",
       "      <td>40.728846</td>\n",
       "      <td>-74.008591</td>\n",
       "      <td>25210</td>\n",
       "      <td>Customer</td>\n",
       "      <td>NaN</td>\n",
       "      <td>0</td>\n",
       "      <td>2016-07-01 00:00:24</td>\n",
       "    </tr>\n",
       "    <tr>\n",
       "      <th>4</th>\n",
       "      <td>609</td>\n",
       "      <td>7/1/2016 00:00:31</td>\n",
       "      <td>7/1/2016 00:10:40</td>\n",
       "      <td>284</td>\n",
       "      <td>Greenwich Ave &amp; 8 Ave</td>\n",
       "      <td>40.739017</td>\n",
       "      <td>-74.002638</td>\n",
       "      <td>212</td>\n",
       "      <td>W 16 St &amp; The High Line</td>\n",
       "      <td>40.743349</td>\n",
       "      <td>-74.006818</td>\n",
       "      <td>15514</td>\n",
       "      <td>Customer</td>\n",
       "      <td>NaN</td>\n",
       "      <td>0</td>\n",
       "      <td>2016-07-01 00:00:31</td>\n",
       "    </tr>\n",
       "  </tbody>\n",
       "</table>\n",
       "</div>"
      ],
      "text/plain": [
       "   tripduration          starttime           stoptime  start station id  \\\n",
       "0           704  7/1/2016 00:00:02  7/1/2016 00:11:47               459   \n",
       "1           492  7/1/2016 00:00:18  7/1/2016 00:08:31               293   \n",
       "2           191  7/1/2016 00:00:19  7/1/2016 00:03:31              3090   \n",
       "3           687  7/1/2016 00:00:24  7/1/2016 00:11:52               459   \n",
       "4           609  7/1/2016 00:00:31  7/1/2016 00:10:40               284   \n",
       "\n",
       "      start station name  start station latitude  start station longitude  \\\n",
       "0       W 20 St & 11 Ave               40.746745               -74.007756   \n",
       "1  Lafayette St & E 8 St               40.730287               -73.990765   \n",
       "2    N 8 St & Driggs Ave               40.717746               -73.956001   \n",
       "3       W 20 St & 11 Ave               40.746745               -74.007756   \n",
       "4  Greenwich Ave & 8 Ave               40.739017               -74.002638   \n",
       "\n",
       "   end station id             end station name  end station latitude  \\\n",
       "0             347  Greenwich St & W Houston St             40.728846   \n",
       "1             466              W 25 St & 6 Ave             40.743954   \n",
       "2            3107     Bedford Ave & Nassau Ave             40.723117   \n",
       "3             347  Greenwich St & W Houston St             40.728846   \n",
       "4             212      W 16 St & The High Line             40.743349   \n",
       "\n",
       "   end station longitude  bikeid    usertype  birth year  gender  \\\n",
       "0             -74.008591   17431    Customer         NaN       0   \n",
       "1             -73.991449   24159  Subscriber      1984.0       1   \n",
       "2             -73.952123   16345  Subscriber      1986.0       2   \n",
       "3             -74.008591   25210    Customer         NaN       0   \n",
       "4             -74.006818   15514    Customer         NaN       0   \n",
       "\n",
       "                 date  \n",
       "0 2016-07-01 00:00:02  \n",
       "1 2016-07-01 00:00:18  \n",
       "2 2016-07-01 00:00:19  \n",
       "3 2016-07-01 00:00:24  \n",
       "4 2016-07-01 00:00:31  "
      ]
     },
     "execution_count": 11,
     "metadata": {},
     "output_type": "execute_result"
    }
   ],
   "source": [
    "\n",
    "#File 2\n",
    "\n",
    "df2 = pd.read_csv(os.getenv(\"PUIDATA\") + \"/201607-citibike-tripdata.csv\")\n",
    "# df is the dataframe where the content of the csv file is stored\n",
    "df2['date'] = pd.to_datetime(df2['starttime'])\n",
    "# note that with dataframes I can refer to variables as dictionary keys, \n",
    "# i.e. df['starttime'] or as attributes: df.starttime. \n",
    "df2.head()\n",
    "                  \n",
    "                  \n",
    "                  "
   ]
  },
  {
   "cell_type": "code",
   "execution_count": 45,
   "metadata": {},
   "outputs": [
    {
     "data": {
      "text/plain": [
       "2"
      ]
     },
     "execution_count": 45,
     "metadata": {},
     "output_type": "execute_result"
    }
   ],
   "source": [
    "len(df2.columns)\n"
   ]
  },
  {
   "cell_type": "code",
   "execution_count": 12,
   "metadata": {},
   "outputs": [
    {
     "data": {
      "text/html": [
       "<div>\n",
       "<style>\n",
       "    .dataframe thead tr:only-child th {\n",
       "        text-align: right;\n",
       "    }\n",
       "\n",
       "    .dataframe thead th {\n",
       "        text-align: left;\n",
       "    }\n",
       "\n",
       "    .dataframe tbody tr th {\n",
       "        vertical-align: top;\n",
       "    }\n",
       "</style>\n",
       "<table border=\"1\" class=\"dataframe\">\n",
       "  <thead>\n",
       "    <tr style=\"text-align: right;\">\n",
       "      <th></th>\n",
       "      <th>usertype</th>\n",
       "      <th>date</th>\n",
       "    </tr>\n",
       "  </thead>\n",
       "  <tbody>\n",
       "    <tr>\n",
       "      <th>0</th>\n",
       "      <td>Customer</td>\n",
       "      <td>2016-07-01 00:00:02</td>\n",
       "    </tr>\n",
       "    <tr>\n",
       "      <th>1</th>\n",
       "      <td>Subscriber</td>\n",
       "      <td>2016-07-01 00:00:18</td>\n",
       "    </tr>\n",
       "    <tr>\n",
       "      <th>2</th>\n",
       "      <td>Subscriber</td>\n",
       "      <td>2016-07-01 00:00:19</td>\n",
       "    </tr>\n",
       "    <tr>\n",
       "      <th>3</th>\n",
       "      <td>Customer</td>\n",
       "      <td>2016-07-01 00:00:24</td>\n",
       "    </tr>\n",
       "    <tr>\n",
       "      <th>4</th>\n",
       "      <td>Customer</td>\n",
       "      <td>2016-07-01 00:00:31</td>\n",
       "    </tr>\n",
       "  </tbody>\n",
       "</table>\n",
       "</div>"
      ],
      "text/plain": [
       "     usertype                date\n",
       "0    Customer 2016-07-01 00:00:02\n",
       "1  Subscriber 2016-07-01 00:00:18\n",
       "2  Subscriber 2016-07-01 00:00:19\n",
       "3    Customer 2016-07-01 00:00:24\n",
       "4    Customer 2016-07-01 00:00:31"
      ]
     },
     "execution_count": 12,
     "metadata": {},
     "output_type": "execute_result"
    }
   ],
   "source": [
    "df2.drop(['tripduration', 'starttime', 'stoptime', 'start station id',\n",
    "       'start station name', 'start station latitude',\n",
    "       'start station longitude', 'end station id', 'end station name',\n",
    "       'end station latitude', 'end station longitude', 'bikeid',\n",
    "       'birth year', 'gender'], axis=1, inplace=True)\n",
    "df2.head()"
   ]
  },
  {
   "cell_type": "code",
   "execution_count": 41,
   "metadata": {},
   "outputs": [
    {
     "data": {
      "text/html": [
       "<div>\n",
       "<style>\n",
       "    .dataframe thead tr:only-child th {\n",
       "        text-align: right;\n",
       "    }\n",
       "\n",
       "    .dataframe thead th {\n",
       "        text-align: left;\n",
       "    }\n",
       "\n",
       "    .dataframe tbody tr th {\n",
       "        vertical-align: top;\n",
       "    }\n",
       "</style>\n",
       "<table border=\"1\" class=\"dataframe\">\n",
       "  <thead>\n",
       "    <tr style=\"text-align: right;\">\n",
       "      <th></th>\n",
       "      <th>usertype</th>\n",
       "      <th>date</th>\n",
       "    </tr>\n",
       "  </thead>\n",
       "  <tbody>\n",
       "    <tr>\n",
       "      <th>count</th>\n",
       "      <td>1380110</td>\n",
       "      <td>1380110</td>\n",
       "    </tr>\n",
       "    <tr>\n",
       "      <th>unique</th>\n",
       "      <td>2</td>\n",
       "      <td>944935</td>\n",
       "    </tr>\n",
       "    <tr>\n",
       "      <th>top</th>\n",
       "      <td>Subscriber</td>\n",
       "      <td>2016-07-11 17:54:14</td>\n",
       "    </tr>\n",
       "    <tr>\n",
       "      <th>freq</th>\n",
       "      <td>1178219</td>\n",
       "      <td>9</td>\n",
       "    </tr>\n",
       "    <tr>\n",
       "      <th>first</th>\n",
       "      <td>NaN</td>\n",
       "      <td>2016-07-01 00:00:02</td>\n",
       "    </tr>\n",
       "    <tr>\n",
       "      <th>last</th>\n",
       "      <td>NaN</td>\n",
       "      <td>2016-07-31 23:59:59</td>\n",
       "    </tr>\n",
       "  </tbody>\n",
       "</table>\n",
       "</div>"
      ],
      "text/plain": [
       "          usertype                 date\n",
       "count      1380110              1380110\n",
       "unique           2               944935\n",
       "top     Subscriber  2016-07-11 17:54:14\n",
       "freq       1178219                    9\n",
       "first          NaN  2016-07-01 00:00:02\n",
       "last           NaN  2016-07-31 23:59:59"
      ]
     },
     "execution_count": 41,
     "metadata": {},
     "output_type": "execute_result"
    }
   ],
   "source": [
    "df2.describe()\n"
   ]
  },
  {
   "cell_type": "code",
   "execution_count": 42,
   "metadata": {},
   "outputs": [
    {
     "data": {
      "text/plain": [
       "False"
      ]
     },
     "execution_count": 42,
     "metadata": {},
     "output_type": "execute_result"
    }
   ],
   "source": [
    "df2.isnull().any().any()"
   ]
  },
  {
   "cell_type": "code",
   "execution_count": 47,
   "metadata": {},
   "outputs": [
    {
     "data": {
      "text/plain": [
       "<matplotlib.legend.Legend at 0x115eb8f10>"
      ]
     },
     "execution_count": 47,
     "metadata": {},
     "output_type": "execute_result"
    },
    {
     "data": {
      "image/png": "[encoded data removed]",
      "text/plain": [
       "<matplotlib.figure.Figure at 0x115eb8fd0>"
      ]
     },
     "metadata": {},
     "output_type": "display_data"
    }
   ],
   "source": [
    "#goal is to separate Subscriber vs Customer in user type .. similar to Gender example \n",
    "#calculating for customer first, then for subscriber \n",
    "fig = pl.figure(figsize(10,10))\n",
    "\n",
    "#instead of plotting with matplotlib i.e. plot() , use plot method in pandas\n",
    "norm_c = 1 #norm_w\n",
    "((df['date'][df['usertype'] == \"Customer\"].groupby([df['date'].dt.weekday]).count()) / norm_c).plot(kind=\"bar\", \n",
    "                                                                                         color='IndianRed', \n",
    "                                                                                         label='Customer')\n",
    "\n",
    "norm_s = 1\n",
    "ax = ((df['date'][df['usertype'] == \"Subscriber\"].groupby([df['date'].dt.weekday]).count()) / norm_s).plot(kind=\"bar\", \n",
    "                                                                                              color='SteelBlue', \n",
    "                                                                                              alpha=0.5,\n",
    "                                                                                              label='Subscriber', \n",
    "                                                                                              title= 'Bikers Types - January 2016- by Absolute Counts')\n",
    "\n",
    "tmp = ax.xaxis.set_ticklabels(['Mon', 'Tue', 'Wed', 'Thu', 'Fri', 'Sat', 'Sun'], fontsize=20)\n",
    "pl.legend()\n",
    "\n",
    "\n",
    "#Figure 1a: Distribution of Citibike bikers by Customer Type in January 2016, absolute counts"
   ]
  },
  {
   "cell_type": "code",
   "execution_count": 14,
   "metadata": {},
   "outputs": [
    {
     "data": {
      "text/plain": [
       "<matplotlib.legend.Legend at 0x11109b950>"
      ]
     },
     "execution_count": 14,
     "metadata": {},
     "output_type": "execute_result"
    },
    {
     "data": {
      "image/png": "[encoded data removed]",
      "text/plain": [
       "<matplotlib.figure.Figure at 0x1158d6250>"
      ]
     },
     "metadata": {},
     "output_type": "display_data"
    }
   ],
   "source": [
    "#Recalculating for error \n",
    "fig=pl.figure(figsize(10,10))\n",
    "\n",
    "counts_c = df.date[df.usertype == \"Customer\"].groupby([df.date.dt.weekday]).count()\n",
    "norm_c = 1\n",
    "error_c = np.sqrt(counts_c)\n",
    "ax=((counts_c) / norm_c).plot(kind=\"bar\",color='IndianRed',  yerr=[\n",
    "            ((error_c) / norm_c, (error_c) / norm_c)], label='Customer bikers',title= \"Absolute Counts - Jan 2016 -  with Statistical errors \")\n",
    "\n",
    "\n",
    "counts_s = df.date[df.usertype==\"Subscriber\"].groupby([df.date.dt.weekday]).count()\n",
    "norm_s = 1\n",
    "error_s=np.sqrt(counts_s)\n",
    "((counts_s) / norm_s).plot(kind=\"bar\", alpha=0.5, yerr=[((error_s) / norm_s, (error_s) / norm_s)], \n",
    "                           color='SteelBlue', label='Subscriber bikers')\n",
    "ax.xaxis.set_ticklabels(['Mon','Tue','Wed','Thu','Fri','Sat','Sun'], fontsize=20)\n",
    "ax.set_ylabel (\"Number of rides\")\n",
    "ax.set_xlabel (\"Day of the week\")\n",
    "pl.legend(['Customer bikers','Subscriber bikers'], fontsize=20)\n",
    "\n",
    "#Figure 1b: Distribution of Citibike bikers by type in January 2016, absolute counts, with statistical errors"
   ]
  },
  {
   "cell_type": "code",
   "execution_count": 15,
   "metadata": {},
   "outputs": [
    {
     "data": {
      "text/plain": [
       "<matplotlib.legend.Legend at 0x1144b9790>"
      ]
     },
     "execution_count": 15,
     "metadata": {},
     "output_type": "execute_result"
    },
    {
     "data": {
      "image/png": "[encoded data removed]",
      "text/plain": [
       "<matplotlib.figure.Figure at 0x1144b9450>"
      ]
     },
     "metadata": {},
     "output_type": "display_data"
    }
   ],
   "source": [
    "#Ratios in order to normalize (so we can compare regardless of total counts).. divide by the total number of counts for that customer type\n",
    "fig = pl.figure(figsize(10,10))\n",
    "\n",
    "norm_c = counts_c.sum()\n",
    "error_c = np.sqrt(counts_c)\n",
    "((counts_c) / norm_c).plot(kind=\"bar\", color='IndianRed',  \n",
    "                           yerr=[((error_c) / norm_c, (error_c) / norm_c)], \n",
    "                           label='customer bikers', \n",
    "                           title=\"Biker Types - Jan 2016 - Normalized\")\n",
    "\n",
    "norm_s = counts_s.sum()\n",
    "ax = ((counts_s) / norm_s).plot(kind=\"bar\", alpha=0.5, \n",
    "                                yerr=[((error_s) / norm_s, (error_s) / norm_s)], \n",
    "                                color='SteelBlue', label='subscriber bikers')\n",
    "\n",
    "ax.xaxis.set_ticklabels(['Mon', 'Tue', 'Wed', 'Thu', 'Fri', 'Sat', 'Sun'], fontsize=20)\n",
    "ax.set_ylabel (\"Fraction of rides\")\n",
    "ax.set_xlabel (\"Day of the week\")\n",
    "\n",
    "pl.legend(['Customer bikers','Subscriber bikers'],fontsize=20)\n",
    "\n",
    "#Figure 2: Distribution of Citibike bikers by User type in January 2016, normalized"
   ]
  },
  {
   "cell_type": "code",
   "execution_count": 16,
   "metadata": {
    "scrolled": false
   },
   "outputs": [
    {
     "name": "stdout",
     "output_type": "stream",
     "text": [
      "date\n",
      "0    1679\n",
      "1    1222\n",
      "2    1765\n",
      "3    1981\n",
      "4    5403\n",
      "5    7004\n",
      "6    5489\n",
      "Name: date, dtype: int64\n",
      "24543\n",
      "date\n",
      "0    53569\n",
      "1    59323\n",
      "2    74118\n",
      "3    85190\n",
      "4    99728\n",
      "5    60580\n",
      "6    52427\n",
      "Name: date, dtype: int64\n",
      "484935\n",
      "date\n",
      "0    1679\n",
      "1    1222\n",
      "2    1765\n",
      "3    1981\n",
      "4    5403\n",
      "Name: date, dtype: int64\n",
      "484935\n",
      "date\n",
      "0    53569\n",
      "1    59323\n",
      "2    74118\n",
      "3    85190\n",
      "4    99728\n",
      "Name: date, dtype: int64\n",
      "Subscribers: week:0.767, weekend:0.233, weekend error:0.001, weekend error:0.001\n",
      "Customer: week:0.491, weekend:0.509, weekend error:0.004, weekend error:0.005\n"
     ]
    },
    {
     "data": {
      "text/plain": [
       "<matplotlib.legend.Legend at 0x118101ad0>"
      ]
     },
     "execution_count": 16,
     "metadata": {},
     "output_type": "execute_result"
    },
    {
     "data": {
      "image/png": "[encoded data removed]",
      "text/plain": [
       "<matplotlib.figure.Figure at 0x116f77410>"
      ]
     },
     "metadata": {},
     "output_type": "display_data"
    }
   ],
   "source": [
    "#The next test is on porportions of Customers during the week and porportions of Customer during the weekend. \n",
    "#Will also calculate the porportion of Subscribers during the week and porportion of Subscribers during the weekend. \n",
    "#Then, repeat the same for Subscribers \n",
    "\n",
    "fig = pl.figure(figsize(15,6))\n",
    "ax1 = fig.add_subplot(121)\n",
    "ax2 = fig.add_subplot(122)\n",
    "ax1.set_xticks([])\n",
    "ax2.set_xticks([])\n",
    "print(counts_c)\n",
    "print (norm_c)\n",
    "\n",
    "print (counts_s)\n",
    "print (norm_s)\n",
    "\n",
    "print(counts_c[:-2])\n",
    "print(norm_s)\n",
    "print(counts_s[:-2])\n",
    "week_c = sum(counts_c[:-2]) * 1.0 / norm_c  #fraction of customers riding on week days\n",
    "weekend_c = sum(counts_c[-2:]) * 1.0 / norm_c  #fraction of customers riding on weekends\n",
    "eweek_c = np.sqrt(sum(error_c[:-2]**2)) / norm_c  #error on fraction number of customers riding on week days\n",
    "eweekend_c = np.sqrt(sum(error_c[-2:]**2)) / norm_c #error on fraction number of customers riding on weekends\n",
    "\n",
    "#same nomenclature as above\n",
    "week_s = sum(counts_s[:-2]) * 1.0 / norm_s\n",
    "weekend_s = sum(counts_s[-2:]) * 1.0 / norm_s\n",
    "eweek_s = np.sqrt(sum(error_s[:-2]**2)) / norm_s\n",
    "eweekend_s = np.sqrt(sum(error_s[-2:]**2)) / norm_s\n",
    "\n",
    "print(\"Subscribers: week:{0:.3f}, weekend:{1:.3f}, weekend error:{2:.3f}, weekend error:{3:.3f}\"\\\n",
    "      .format(week_s, weekend_s, eweek_s, eweekend_s))\n",
    "print(\"Customer: week:{0:.3f}, weekend:{1:.3f}, weekend error:{2:.3f}, weekend error:{3:.3f}\"\\\n",
    "      .format(week_c, weekend_c, eweek_c, eweekend_c))\n",
    "\n",
    "ax1.errorbar([0.4], [week_s], yerr=[eweek_s], fmt='o', label='subscribers')\n",
    "ax1.errorbar([0.2], [week_c], yerr=[eweek_c], fmt='o', label='customers')\n",
    "ax1.set_xlim(0, 0.5)\n",
    "ax2.errorbar([0.4], [weekend_s], yerr=[eweekend_s], fmt='o', label='subscribers')\n",
    "ax2.errorbar([0.2], [weekend_c], yerr=[eweekend_c], fmt='o', label='customers')\n",
    "ax1.set_xlim(0, 0.5)\n",
    "ax1.set_title(\"User types - week days - Jan 2016 \")\n",
    "ax2.set_title(\"User types - weekends - Jan 2016\")\n",
    "ax2.set_ylabel(\"Fraction of normalized rides by user type\")\n",
    "ax1.set_ylabel(\"Fraction of normalized rides by user type\")\n",
    "\n",
    "pl.xlim(-0.5, 1.5)\n",
    "pl.legend(fontsize = 20)\n",
    "\n",
    "#Figure 3: Fraction of Citibike bikers per user type in January 2016 for week days (left) and weekends (right)"
   ]
  },
  {
   "cell_type": "code",
   "execution_count": 17,
   "metadata": {},
   "outputs": [
    {
     "name": "stdout",
     "output_type": "stream",
     "text": [
      "difference between Subscribers and Customers on the weekend:  0.275989621318\n",
      "We must check the significance before we reject the Null Hypothesis\n"
     ]
    }
   ],
   "source": [
    "#Is the percentage of customers lower or equal to the number of subscribers who ride on the weekends \n",
    "\n",
    "P0mP1 = weekend_c - weekend_s\n",
    "print (\"difference between Subscribers and Customers on the weekend: \", P0mP1)\n",
    "if P0mP1 <= 0:\n",
    "    # we are done...\n",
    "    print(\"In accordance with Null Hypothesis\")\n",
    "else:\n",
    "    # morework to do\n",
    "    print (\"We must check the significance before we reject the Null Hypothesis\")"
   ]
  },
  {
   "cell_type": "code",
   "execution_count": 18,
   "metadata": {},
   "outputs": [
    {
     "name": "stdout",
     "output_type": "stream",
     "text": [
      "The z statistics is 97.90\n"
     ]
    }
   ],
   "source": [
    "# defining the functions that calculate the statistics\n",
    "# the lambda style definition is NOT APPROVED BY PEP8 and you should avoind it\n",
    "# but I am putting it here since you may encounter it in your coding life.\n",
    "# confront the equation in the markdown cell above with these function to understand as they work\n",
    "\n",
    "p = lambda p0, p1, n0, n1: (p0 * n0 + p1 * n1) / (n0 + n1)\n",
    "se = lambda p, n0, n1: np.sqrt(p * (1 - p) * (1.0 / n0 + 1.0 / n1)) #standard error\n",
    "zscore = lambda p0, p1, s : (p0 - p1) / s\n",
    "\n",
    "# calculations\n",
    "\n",
    "sp_stdev_mw = se(p(weekend_c, weekend_s, norm_c, norm_s), norm_c, norm_s)\n",
    "# print (sp_stdev_mw)\n",
    "z = zscore(weekend_c, weekend_s, sp_stdev_mw)\n",
    "print (\"The z statistics is %.2f\"%z)"
   ]
  },
  {
   "cell_type": "code",
   "execution_count": null,
   "metadata": {
    "collapsed": true
   },
   "outputs": [],
   "source": [
    "## COnclusion here on rejecting the Null \n",
    "#In this case the Z statistic is very high at 97.9 - which yeilds a corresponding p value of < .0002. \n",
    "\n",
    "#This means that the p-value is much smaller than the alpha of .05 that was chosen at the begining of this exercise.\n",
    "\n",
    "#Since the pvalue is smaller than our alpha, we reject the null hypothesis that there are an equal or greater number of\n",
    "#subscriber riders as customer riders riding on the weekends as compared to the weekdays during Jan 2016. \n",
    "\n",
    "#As it turns out, the ratio difference observed in the last figure featuring fractions of riders side by side plots \n",
    "#are statistically significant. The plots show a greater portion of subscriber riders during weekedays rather than customers, and on the weekends the porportion trend is reversed with a greater porportion of customer riders rather than subscibers. \n",
    "\n",
    "##=====\n",
    "##=====\n",
    "\n",
    "##Reminder IDEA:\n",
    "#Customers (1 day or 3 day pass holders) are less likely than Subscribers (longer term users) to choose biking for commuting during the week.\n",
    "#NULL HYPOTHESIS:\n",
    "#The ratio of Subscribers biking on weekends over Subscribers biking on weekdays is the same or higher than the ratio \n",
    "#of Customers biking over weekends to Customers biking on weekdays\n",
    "#ALTERNATIVE HYPOTHESIS: \n",
    "#The ratio of Subscribers biking on the \n"
   ]
  },
  {
   "cell_type": "code",
   "execution_count": 19,
   "metadata": {},
   "outputs": [
    {
     "data": {
      "text/plain": [
       "<matplotlib.legend.Legend at 0x116f76550>"
      ]
     },
     "execution_count": 19,
     "metadata": {},
     "output_type": "execute_result"
    },
    {
     "data": {
      "image/png": "[encoded data removed]",
      "text/plain": [
       "<matplotlib.figure.Figure at 0x12f31da50>"
      ]
     },
     "metadata": {},
     "output_type": "display_data"
    }
   ],
   "source": [
    "#Second File From Summer July 2016 \n",
    "\n",
    "#goal is to separate Subscriber vs Customer in user type .. similar to Gender example \n",
    "#calculating for customer first, then for subscriber \n",
    "fig = pl.figure(figsize(10,10))\n",
    "\n",
    "#instad of plotting with matplotlib i.e. plot() , use plot method in pandas\n",
    "norm_c = 1 #norm_w\n",
    "((df2['date'][df2['usertype'] == \"Customer\"].groupby([df2['date'].dt.weekday]).count()) / norm_c).plot(kind=\"bar\", \n",
    "                                                                                         color='IndianRed', \n",
    "                                                                                         label='Customer',\n",
    "                                                                                         title=\"Customer types - absolute counts - July 2016\")\n",
    "\n",
    "norm_s = 1\n",
    "ax = ((df2['date'][df2['usertype'] == \"Subscriber\"].groupby([df2['date'].dt.weekday]).count()) / norm_s).plot(kind=\"bar\", \n",
    "                                                                                              color='SteelBlue', \n",
    "                                                                                              alpha=0.5,\n",
    "                                                                                              label='Subscriber')\n",
    "\n",
    "tmp = ax.xaxis.set_ticklabels(['Mon', 'Tue', 'Wed', 'Thu', 'Fri', 'Sat', 'Sun'], fontsize=20)\n",
    "pl.legend()\n",
    "\n",
    "\n",
    "#Figure 2a: Distribution of Citibike bikers by Customer Type in July 2016, absolute counts"
   ]
  },
  {
   "cell_type": "code",
   "execution_count": 49,
   "metadata": {},
   "outputs": [
    {
     "data": {
      "text/plain": [
       "<matplotlib.legend.Legend at 0x116030250>"
      ]
     },
     "execution_count": 49,
     "metadata": {},
     "output_type": "execute_result"
    },
    {
     "data": {
      "image/png": "[encoded data removed]",
      "text/plain": [
       "<matplotlib.figure.Figure at 0x115eb8a50>"
      ]
     },
     "metadata": {},
     "output_type": "display_data"
    }
   ],
   "source": [
    "#Recalculating for error \n",
    "fig=pl.figure(figsize(10,10))\n",
    "\n",
    "counts_c = df2.date[df2.usertype == \"Customer\"].groupby([df2.date.dt.weekday]).count()\n",
    "norm_c = 1\n",
    "error_c = np.sqrt(counts_c)\n",
    "ax=((counts_c) / norm_c).plot(kind=\"bar\",color='IndianRed',  yerr=[\n",
    "            ((error_c) / norm_c, (error_c) / norm_c)], label='Customer bikers',title= \"Absolute Counts - July 2016 -  with Statistical errors \")\n",
    "\n",
    "\n",
    "counts_s = df2.date[df2.usertype==\"Subscriber\"].groupby([df2.date.dt.weekday]).count()\n",
    "norm_s = 1\n",
    "error_s=np.sqrt(counts_s)\n",
    "((counts_s) / norm_s).plot(kind=\"bar\", alpha=0.5, yerr=[((error_s) / norm_s, (error_s) / norm_s)], \n",
    "                           color='SteelBlue', label='Subscriber bikers')\n",
    "\n",
    "ax=((counts_c) / norm_c).plot(kind=\"bar\",color='IndianRed',  yerr=[\n",
    "            ((error_c) / norm_c, (error_c) / norm_c)], label='Customer bikers',title= \"Absolute Counts - July 2016 -  with Statistical errors \")\n",
    "\n",
    "\n",
    "\n",
    "ax.xaxis.set_ticklabels(['Mon','Tue','Wed','Thu','Fri','Sat','Sun'], fontsize=20)\n",
    "ax.set_ylabel (\"Number of rides\")\n",
    "ax.set_xlabel (\"Day of the week\")\n",
    "pl.legend(['Customers','Subscribers'],fontsize=20)\n",
    "\n",
    "#Figure 2b: Distribution of Citibike bikers by user type in Jan 2016, absolute counts, with statistical errors"
   ]
  },
  {
   "cell_type": "markdown",
   "metadata": {},
   "source": [
    "#### Ratios in order to normalize (so we can compare regardless of total counts).. divide by the total number of counts for that customer type\n",
    "fig = pl.figure(figsize(10,10))\n",
    "\n",
    "norm_c = counts_c.sum()\n",
    "error_c = np.sqrt(counts_c)\n",
    "((counts_c) / norm_c).plot(kind=\"bar\", color='IndianRed',  \n",
    "                           yerr=[((error_c) / norm_c, (error_c) / norm_c)], \n",
    "                           label='customer bikers',\n",
    "                           title=\"User types normalized - July 2016\")\n",
    "\n",
    "norm_s = counts_s.sum()\n",
    "ax = ((counts_s) / norm_s).plot(kind=\"bar\", alpha=0.5, \n",
    "                                yerr=[((error_s) / norm_s, (error_s) / norm_s)], \n",
    "                                color='SteelBlue', label='subscriber bikers')\n",
    "\n",
    "ax.xaxis.set_ticklabels(['Mon', 'Tue', 'Wed', 'Thu', 'Fri', 'Sat', 'Sun'], fontsize=20)\n",
    "ax.set_ylabel (\"Fraction of rides\")\n",
    "ax.set_xlabel (\"Day of the week\")\n",
    "\n",
    "pl.legend(['Customer bikers','Subscriber bikers'],fontsize=20)\n",
    "\n",
    "#Figure 3: Distribution of Citibike bikers by User type in July 2016, normalized"
   ]
  },
  {
   "cell_type": "code",
   "execution_count": 22,
   "metadata": {
    "collapsed": true
   },
   "outputs": [],
   "source": [
    "counts_c07 = df2.date[df2.usertype == \"Customer\"].groupby([df2.date.dt.weekday]).count()\n",
    "counts_s07 = df2.date[df2.usertype == \"Subscriber\"].groupby([df2.date.dt.weekday]).count()\n",
    "norm_c07 = counts_c07.sum()\n",
    "norm_s07 = counts_s07.sum()\n",
    "error_c07 = np.sqrt(counts_c07)\n",
    "error_s07 = np.sqrt(counts_s07)\n"
   ]
  },
  {
   "cell_type": "code",
   "execution_count": 23,
   "metadata": {},
   "outputs": [
    {
     "name": "stdout",
     "output_type": "stream",
     "text": [
      "1178219\n",
      "date\n",
      "0    141379\n",
      "1    188455\n",
      "2    198662\n",
      "3    186328\n",
      "4    196228\n",
      "5    132150\n",
      "6    135017\n",
      "Name: date, dtype: int64\n",
      "201891\n"
     ]
    }
   ],
   "source": [
    "print (norm_s07)\n",
    "print (counts_s07)\n",
    "\n",
    "print (norm_c07)"
   ]
  },
  {
   "cell_type": "code",
   "execution_count": 25,
   "metadata": {},
   "outputs": [
    {
     "name": "stdout",
     "output_type": "stream",
     "text": [
      "Subscriber: week:0.773, weekend:0.227, weekend error:0.001, weekend error:0.000\n",
      "Customer: week:0.773, weekend:0.227, weekend error:0.001, weekend error:0.000\n",
      "The z statistics is 97.90\n"
     ]
    },
    {
     "data": {
      "image/png": "[encoded data removed]",
      "text/plain": [
       "<matplotlib.figure.Figure at 0x1167fccd0>"
      ]
     },
     "metadata": {},
     "output_type": "display_data"
    }
   ],
   "source": [
    "#The next test is on porportions of Customers during the week and porportions of Customer during the weekend. \n",
    "#Will also calculate the porportion of Subscribers during the week and porportion of Subscribers during the weekend. \n",
    "#Then, repeat the same for Subscribers \n",
    "fig=pl.figure(figsize(15,6))\n",
    "ax1=fig.add_subplot(121)\n",
    "ax2=fig.add_subplot(122)\n",
    "ax1.set_xticks([])\n",
    "ax2.set_xticks([])\n",
    "\n",
    "week_c07 = sum(counts_c07[:-2]) * 1.0 / norm_c07\n",
    "weekend_c07 = sum(counts_c07[-2:])*1.0 / norm_c07\n",
    "eweek_c07 = np.sqrt(sum(error_c07[:-2]**2)) / norm_c07\n",
    "eweekend_c07 = np.sqrt(sum(error_c07[-2:]**2)) / norm_c07\n",
    "\n",
    "week_s07 = sum(counts_s07[:-2]) * 1.0 / norm_s07\n",
    "weekend_s07 = sum(counts_s07[-2:]) * 1.0 / norm_s07\n",
    "eweek_s07 = np.sqrt(sum(error_s07[:-2]**2)) / norm_s07\n",
    "eweekend_s07 = np.sqrt(sum(error_s07[-2:]**2)) / norm_s07\n",
    "\n",
    "print(\"Subscriber: week:{0:.3f}, weekend:{1:.3f}, weekend error:{2:.3f}, weekend error:{3:.3f}\"\\\n",
    "      .format(week_s07, weekend_s07, eweek_s07, eweekend_s07))\n",
    "print(\"Customer: week:{0:.3f}, weekend:{1:.3f}, weekend error:{2:.3f}, weekend error:{3:.3f}\"\\\n",
    "      .format(week_s07, weekend_s07, eweek_s07, eweekend_s07))\n",
    "\n",
    "ax1.errorbar([0.2],[week_c07], yerr=[eweek_c07], fmt='o', label='customer')\n",
    "ax1.errorbar([0.4],[week_s07], yerr=[eweek_s07], fmt='o', label='subscriber')\n",
    "ax1.set_xlim(0,0.5)\n",
    "ax2.errorbar([0.2],[weekend_c07], yerr=[eweekend_c07], fmt='o', label='customer')\n",
    "ax2.errorbar([0.4],[weekend_s07], yerr=[eweekend_s07], fmt='o', label='subscriber')\n",
    "ax1.set_xlim(0,0.5)\n",
    "ax1.set_title(\"week days\")\n",
    "ax2.set_title(\"weekends\")\n",
    "ax2.set_ylabel(\"Fraction of normalized rides by rider type\")\n",
    "ax1.set_ylabel(\"Fraction of normalized rides by rider type\")\n",
    "\n",
    "pl.xlim(-0.5,1.5)\n",
    "pl.legend(fontsize=20)\n",
    "\n",
    "\n",
    "sp_stdev_cs07 = se(p(weekend_c07, weekend_s07, norm_c07, norm_s07), norm_c07, norm_s07)\n",
    "# print (sp_stdev_mw)\n",
    "z07 = zscore(weekend_c07, weekend_s07, sp_stdev_cs07)\n",
    "print (\"The z statistics is %.2f\"%z)\n",
    "\n",
    "#Figure 3: Fraction of Citibike bikers per user type in January 2016 for week days (left) and weekends (right)\n"
   ]
  },
  {
   "cell_type": "code",
   "execution_count": null,
   "metadata": {
    "collapsed": true
   },
   "outputs": [],
   "source": []
  },
  {
   "cell_type": "code",
   "execution_count": 26,
   "metadata": {},
   "outputs": [
    {
     "name": "stdout",
     "output_type": "stream",
     "text": [
      "difference between Subscribers and Customers on the weekend:  0.275989621318\n",
      "We must check the significance before we reject the Null Hypothesis\n"
     ]
    }
   ],
   "source": [
    "#Is the percentage of customers lower or equal to the number of subscribers who ride on the weekends \n",
    "\n",
    "P0mP1 = weekend_c - weekend_s\n",
    "print (\"difference between Subscribers and Customers on the weekend: \", P0mP1)\n",
    "if P0mP1 <= 0:\n",
    "    # we are done...\n",
    "    print(\"In accordance with Null Hypothesis\")\n",
    "else:\n",
    "    # morework to do\n",
    "    print (\"We must check the significance before we reject the Null Hypothesis\")"
   ]
  },
  {
   "cell_type": "code",
   "execution_count": 27,
   "metadata": {},
   "outputs": [
    {
     "name": "stdout",
     "output_type": "stream",
     "text": [
      "The z statistics is 257.07\n",
      "0.509024976572\n",
      "0.233035355254\n",
      "0.00107358560893\n"
     ]
    }
   ],
   "source": [
    "# defining the functions that calculate the statistics\n",
    "# the lambda style definition is NOT APPROVED BY PEP8 and you should avoind it\n",
    "# but I am putting it here since you may encounter it in your coding life.\n",
    "# confront the equation in the markdown cell above with these function to understand as they work\n",
    "\n",
    "p = lambda p0, p1, n0, n1: (p0 * n0 + p1 * n1) / (n0 + n1)\n",
    "se = lambda p, n0, n1: np.sqrt(p * (1 - p) * (1.0 / n0 + 1.0 / n1)) #standard error\n",
    "zscore = lambda p0, p1, s : (p0 - p1) / s\n",
    "\n",
    "# calculations\n",
    "\n",
    "sp_stdev_mw = se(p(weekend_c, weekend_s, norm_c, norm_s), norm_c, norm_s)\n",
    "# print (sp_stdev_mw)\n",
    "z = zscore(weekend_c, weekend_s, sp_stdev_mw)\n",
    "print (\"The z statistics is %.2f\"%z)\n",
    "print (weekend_c)\n",
    "print (weekend_s)\n",
    "print (sp_stdev_mw)"
   ]
  },
  {
   "cell_type": "code",
   "execution_count": 123,
   "metadata": {
    "collapsed": true
   },
   "outputs": [],
   "source": [
    "#Conclusion: In the July 2016 data set, we likewise observe an even higher z statistic which translates to an even smaller \n",
    "#pvalue less than p<0.0002 which would be much smaller than the alpha level of .05. \n",
    "#As a result, we reject the null hypothesis that the number of Subscribers biking on the weekends over Subscribers biking on the weekdays is the same or higher than the ration of Customers (short term)\n",
    "#biking on weekends over the Customers biking on weekdays. \n",
    "#That means that the counter pattrn is even stronger in July 2016 than it was in Jan 2016. \n",
    "# \n",
    "\n",
    "#IDEA:\n",
    "#Customers are less likely than Subscribers to choose biking for commuting\n",
    "#NULL HYPOTHESIS:\n",
    "#The ratio of Subscribers biking on weekends over Subscribers biking on weekdays is the same or higher than the ratio \n",
    "#of Customers biking over weekends to Customers biking on weekdays\n",
    "\n",
    "\n",
    "#Overall Note: - Initially, it was disconcerting to say the least that the z scores were so high in each case as it seemed that perhaps something \n",
    "#might have gone astray, however in looking closer at the data, one sees that there are real scale differences in first the porportion of riders who subscribe somewhere in the one million range for weekdays versus those who are short term customers, somewere in the 200,000 range. There alone is about 5x difference in magnitude. However, when looking at the porportions of daily number of raiders in either group as compared to the total number of riders for that week period, the porportion of a day's worth of riders in \n",
    "#each category compared to its own sum suggests that the porportion might be similar at some points during the week. Yet on the weekends, "
   ]
  },
  {
   "cell_type": "code",
   "execution_count": 28,
   "metadata": {
    "collapsed": true
   },
   "outputs": [],
   "source": [
    "#Checking the effect size as in prof's example with gender\n",
    "\n",
    "r = lambda z, n0, n1 : z / np.sqrt(n0+n0)\n",
    "h = lambda p0, p1: 2 * (np.arcsin(np.sqrt(p0)) - np.arcsin(np.sqrt(p1)))"
   ]
  },
  {
   "cell_type": "code",
   "execution_count": 29,
   "metadata": {},
   "outputs": [
    {
     "ename": "NameError",
     "evalue": "name 'z06' is not defined",
     "output_type": "error",
     "traceback": [
      "\u001b[0;31m---------------------------------------------------------------------------\u001b[0m",
      "\u001b[0;31mNameError\u001b[0m                                 Traceback (most recent call last)",
      "\u001b[0;32m<ipython-input-29-eb72432f02a2>\u001b[0m in \u001b[0;36m<module>\u001b[0;34m()\u001b[0m\n\u001b[1;32m      1\u001b[0m \u001b[0mr01\u001b[0m \u001b[0;34m=\u001b[0m \u001b[0mr\u001b[0m\u001b[0;34m(\u001b[0m\u001b[0mz\u001b[0m\u001b[0;34m,\u001b[0m \u001b[0mnorm_c\u001b[0m\u001b[0;34m,\u001b[0m \u001b[0mnorm_s\u001b[0m\u001b[0;34m)\u001b[0m  \u001b[0;31m#norm_w is norm_c.\u001b[0m\u001b[0;34m\u001b[0m\u001b[0m\n\u001b[0;32m----> 2\u001b[0;31m \u001b[0mr06\u001b[0m \u001b[0;34m=\u001b[0m \u001b[0mr\u001b[0m\u001b[0;34m(\u001b[0m\u001b[0mz06\u001b[0m\u001b[0;34m,\u001b[0m \u001b[0mnorm_c06\u001b[0m\u001b[0;34m,\u001b[0m \u001b[0mnorm_s06\u001b[0m\u001b[0;34m)\u001b[0m\u001b[0;34m\u001b[0m\u001b[0m\n\u001b[0m\u001b[1;32m      3\u001b[0m \u001b[0;32mprint\u001b[0m \u001b[0;34m(\u001b[0m\u001b[0mr01\u001b[0m\u001b[0;34m,\u001b[0m \u001b[0mr06\u001b[0m\u001b[0;34m)\u001b[0m\u001b[0;34m\u001b[0m\u001b[0m\n",
      "\u001b[0;31mNameError\u001b[0m: name 'z06' is not defined"
     ]
    }
   ],
   "source": [
    "r01 = r(z, norm_c, norm_s)  #norm_w is norm_c. \n",
    "r06 = r(z06, norm_c06, norm_s06)\n",
    "print (r01, r06)"
   ]
  },
  {
   "cell_type": "code",
   "execution_count": 30,
   "metadata": {},
   "outputs": [
    {
     "name": "stdout",
     "output_type": "stream",
     "text": [
      "[[ 903652.31676823  274566.68323177]\n",
      " [  99123.43845496  102767.56154504]]\n"
     ]
    }
   ],
   "source": [
    "values = np.array([[week_s* norm_s, weekend_s*norm_s],[week_c*norm_c, weekend_c*norm_c]])\n",
    "print(values)\n"
   ]
  },
  {
   "cell_type": "code",
   "execution_count": 31,
   "metadata": {
    "collapsed": true
   },
   "outputs": [],
   "source": [
    "\n",
    "def evalChisq(values):\n",
    "    '''Evaluates the chi sq from a contingency value\n",
    "    Arguments:\n",
    "    values: 2x2 array or list, the contingengy table\n",
    "    '''\n",
    "    if not (len(values.shape) == 2 and values.shape == (2,2)):\n",
    "        print (\"must pass a 2D array\")\n",
    "        return -1\n",
    "    values = np.array(values)\n",
    "    E = np.empty_like(values)\n",
    "    for j in range(len(values[0])):\n",
    "        for i in range(2):\n",
    "            \n",
    "            E[i][j] = ((values[i,:].sum() * values[:,j].sum()) / \n",
    "                        (values).sum())\n",
    "    return ((values - E)**2 / E).sum()\n"
   ]
  },
  {
   "cell_type": "code",
   "execution_count": 32,
   "metadata": {},
   "outputs": [
    {
     "name": "stdout",
     "output_type": "stream",
     "text": [
      "66086.4066798\n"
     ]
    }
   ],
   "source": [
    "chisq = evalChisq(values)\n",
    "print(chisq)\n"
   ]
  },
  {
   "cell_type": "code",
   "execution_count": 33,
   "metadata": {},
   "outputs": [
    {
     "name": "stdout",
     "output_type": "stream",
     "text": [
      "1\n"
     ]
    }
   ],
   "source": [
    "\n",
    "dof = len(values) - 1\n",
    "print(dof)"
   ]
  },
  {
   "cell_type": "code",
   "execution_count": null,
   "metadata": {
    "collapsed": true
   },
   "outputs": [],
   "source": []
  }
 ],
 "metadata": {
  "kernelspec": {
   "display_name": "Python 2",
   "language": "python",
   "name": "python2"
  },
  "language_info": {
   "codemirror_mode": {
    "name": "ipython",
    "version": 2
   },
   "file_extension": ".py",
   "mimetype": "text/x-python",
   "name": "python",
   "nbconvert_exporter": "python",
   "pygments_lexer": "ipython2",
   "version": "2.7.13"
  }
 },
 "nbformat": 4,
 "nbformat_minor": 2
}
