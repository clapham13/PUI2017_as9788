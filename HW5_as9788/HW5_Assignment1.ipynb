{
 "cells": [
  {
   "cell_type": "code",
   "execution_count": 77,
   "metadata": {},
   "outputs": [
    {
     "name": "stdout",
     "output_type": "stream",
     "text": [
      "Populating the interactive namespace from numpy and matplotlib\n"
     ]
    }
   ],
   "source": [
    "##Generate N samples from a distribution of your choice, but not a Gaussian with a chosen mean μ \n",
    "##and standard deviation σ: N(μ, σ) and calculate the mean of each sample (all samples should have the same size n).\n",
    "\n",
    "##Assess the validity of the Z-test: If the samples are drawn from the distribution you are \n",
    "##testing the z-values you calculate should follow a N(0,1) distribution (a Gaussian with mean 0 and \n",
    "##standard deviation 1). Show that the distribution of z -statistics (find the formula in a statistics book \n",
    "##or in last week’s slides) that you calculated (one for each sample) is indeed consistent with N(0,1).\n",
    "\n",
    "#Assignment 1 in Hw3 using skelleton notebook \n",
    "\n",
    "from __future__ import print_function\n",
    "import numpy as np\n",
    "import pylab as pl\n",
    "# this package sets up pretty plots\n",
    "import seaborn as sns\n",
    "from scipy.optimize import curve_fit, minimize\n",
    "import math  \n",
    "%pylab inline\n",
    "import scipy \n",
    "\n"
   ]
  },
  {
   "cell_type": "code",
   "execution_count": 3,
   "metadata": {
    "scrolled": true
   },
   "outputs": [
    {
     "data": {
      "text/plain": [
       "<matplotlib.text.Text at 0x119b35c90>"
      ]
     },
     "execution_count": 3,
     "metadata": {},
     "output_type": "execute_result"
    },
    {
     "data": {
      "image/png": "[encoded data removed]",
      "text/plain": [
       "<matplotlib.figure.Figure at 0x1148e0590>"
      ]
     },
     "metadata": {},
     "output_type": "display_data"
    }
   ],
   "source": [
    "np.random.seed(10)\n",
    "\n",
    "distributions = ['chisq']\n",
    "mymean=100 #defining a mean \n",
    "\n",
    "# the chi sq distribution takes the number of degrees of freedom, which luckily is the same as the mean!\n",
    "df = mymean\n",
    "\n",
    "md = {}\n",
    "# md is an empty dictionary\n",
    "md['chisq'] = np.random.chisquare(df, size=100)\n",
    "# md now is a dictionary with one object: an array by the key 'chisq'\n",
    "# generating the population chi-square distribution\n",
    "\n",
    "pl.hist(md['chisq'], bins = 30)\n",
    "pl.ylabel('N')\n",
    "pl.xlabel('x')\n",
    "\n",
    "\n"
   ]
  },
  {
   "cell_type": "code",
   "execution_count": 4,
   "metadata": {},
   "outputs": [
    {
     "data": {
      "text/plain": [
       "array([ 119.30883203,  109.76005976,  108.3509054 ,   89.52554522,\n",
       "        103.12289126,  100.87118435,  105.56266249,  117.27321126,\n",
       "        102.59082933,  105.74053615,  121.76137958,   84.87765952,\n",
       "        103.13096357,  136.88388181,  100.73739719,  120.36962241,\n",
       "         95.61295813,   91.79028685,  101.21561122,   92.77215768,\n",
       "        105.08171207,   94.65002631,  108.93287059,   94.46944341,\n",
       "         88.41879174,   96.36543696,  107.5139419 ,   97.26991195,\n",
       "         91.91644198,  109.65284939,  137.05389236,  112.8341112 ,\n",
       "         96.09655137,   92.42800021,   98.19430453,   92.05816033,\n",
       "         94.31104077,   97.6249711 ,   96.32273076,  113.93657303,\n",
       "         79.55428984,  108.33992351,   85.31847992,   88.50466977,\n",
       "         75.40028407,   96.22632589,   98.40810105,   72.21467706,\n",
       "        102.4272446 ,   73.79087679,   98.46324136,   89.08167455,\n",
       "         92.69203572,  100.60142142,  100.99836034,   74.80053719,\n",
       "         97.31235877,   93.79948382,   95.21959744,  111.77481547,\n",
       "        103.51978208,   92.8440206 ,   94.98895761,   94.49657127,\n",
       "        103.23185858,   78.22165965,  117.79620302,  138.2912605 ,\n",
       "        120.13324772,  104.29381463,  124.56221676,  109.04769731,\n",
       "         90.58339387,  103.82273289,  119.44170337,   99.74702423,\n",
       "        130.0272732 ,  121.15905938,   98.65773235,   92.70961217,\n",
       "         84.3292944 ,   93.95436765,  106.70709651,  105.28799971,\n",
       "         96.03008658,  100.14295243,  113.21880234,   62.97679141,\n",
       "        105.97215864,  108.96498703,   94.71188277,   88.5910699 ,\n",
       "         77.11511625,  108.21596419,   89.62140034,   95.70171934,\n",
       "        114.21153167,   95.24094624,  107.05001652,  110.19291713])"
      ]
     },
     "execution_count": 4,
     "metadata": {},
     "output_type": "execute_result"
    }
   ],
   "source": [
    "md['chisq']"
   ]
  },
  {
   "cell_type": "code",
   "execution_count": 5,
   "metadata": {},
   "outputs": [
    {
     "name": "stdout",
     "output_type": "stream",
     "text": [
      "Chisq mean: 100.67, standard deviation: 13.67\n"
     ]
    }
   ],
   "source": [
    "print (\"Chisq mean: %.2f, standard deviation: %.2f\"%(md['chisq'].mean(), md['chisq'].std()))"
   ]
  },
  {
   "cell_type": "code",
   "execution_count": null,
   "metadata": {
    "collapsed": true
   },
   "outputs": [],
   "source": [
    "#Lets create 100 = N chisq distributions "
   ]
  },
  {
   "cell_type": "code",
   "execution_count": null,
   "metadata": {
    "collapsed": true
   },
   "outputs": [],
   "source": [
    " "
   ]
  },
  {
   "cell_type": "code",
   "execution_count": null,
   "metadata": {},
   "outputs": [],
   "source": []
  },
  {
   "cell_type": "code",
   "execution_count": 7,
   "metadata": {},
   "outputs": [
    {
     "name": "stdout",
     "output_type": "stream",
     "text": [
      "Index Mean Standard-Deviation\n",
      "0 106.210665727 8.0081365027\n",
      "1 104.915191796 15.4489663154\n",
      "2 99.4271426303 7.28914358667\n",
      "3 103.086033567 13.5171378618\n",
      "4 88.0184872508 12.1920431776\n",
      "5 95.4743526089 9.02054686675\n",
      "6 104.781737566 16.0679682528\n",
      "7 108.975844554 13.2858173076\n",
      "8 97.7584536693 14.0786948908\n",
      "9 98.0652564352 11.0286924894\n"
     ]
    }
   ],
   "source": [
    "sample_size = md['chisq']\n",
    "new_array = []\n",
    "\n",
    "for i in range(0, 100, 10):\n",
    "    x = i\n",
    "    y = x + 10\n",
    "    new_array.append(sample_size[x:y])\n",
    "\n",
    "print(\"Index\", \"Mean\", \"Standard-Deviation\")\n",
    "for index, value in enumerate(new_array):\n",
    "    print(index, value.mean(), value.std())"
   ]
  },
  {
   "cell_type": "code",
   "execution_count": 28,
   "metadata": {},
   "outputs": [
    {
     "data": {
      "text/plain": [
       "numpy.ndarray"
      ]
     },
     "execution_count": 28,
     "metadata": {},
     "output_type": "execute_result"
    }
   ],
   "source": [
    "type(new_array[0])"
   ]
  },
  {
   "cell_type": "code",
   "execution_count": null,
   "metadata": {
    "collapsed": true
   },
   "outputs": [],
   "source": [
    "#pl.hist(md['chisq'], bins = 30)\n",
    "#pl.ylabel('N')\n",
    "#pl.xlabel('x')"
   ]
  },
  {
   "cell_type": "code",
   "execution_count": 8,
   "metadata": {},
   "outputs": [
    {
     "data": {
      "text/plain": [
       "<matplotlib.text.Text at 0x119bf39d0>"
      ]
     },
     "execution_count": 8,
     "metadata": {},
     "output_type": "execute_result"
    },
    {
     "data": {
      "image/png": "[encoded data removed]",
      "text/plain": [
       "<matplotlib.figure.Figure at 0x119c9ae50>"
      ]
     },
     "metadata": {},
     "output_type": "display_data"
    }
   ],
   "source": [
    "pl.hist(new_array, bins = 30)\n",
    "pl.ylabel('N')\n",
    "pl.xlabel('x')"
   ]
  },
  {
   "cell_type": "code",
   "execution_count": 63,
   "metadata": {
    "scrolled": true
   },
   "outputs": [
    {
     "name": "stdout",
     "output_type": "stream",
     "text": [
      "[ 119.30883203  109.76005976  108.3509054    89.52554522  103.12289126\n",
      "  100.87118435  105.56266249  117.27321126  102.59082933  105.74053615]\n"
     ]
    },
    {
     "data": {
      "text/plain": [
       "<matplotlib.axes._subplots.AxesSubplot at 0x1a13d88910>"
      ]
     },
     "execution_count": 63,
     "metadata": {},
     "output_type": "execute_result"
    },
    {
     "data": {
      "image/png": "[encoded data removed]",
      "text/plain": [
       "<matplotlib.figure.Figure at 0x1a13deef90>"
      ]
     },
     "metadata": {},
     "output_type": "display_data"
    }
   ],
   "source": [
    "#pl.figure(1)\n",
    "#pl.plot([1,2,3,4], [1,7,3,5])\n",
    "#pl.show()\n",
    "\n",
    "data = new_array[0]\n",
    "print(data)\n",
    "sns.set_style('whitegrid')\n",
    "#sns.kdep(data, bw=0.5)\n",
    "sns.distplot(data, hist=True)\n",
    "sns.distplot(data, hist=False)"
   ]
  },
  {
   "cell_type": "code",
   "execution_count": null,
   "metadata": {
    "collapsed": true
   },
   "outputs": [],
   "source": [
    "#z= pop_mean - sample_mean / population_sd\n"
   ]
  },
  {
   "cell_type": "code",
   "execution_count": 9,
   "metadata": {},
   "outputs": [
    {
     "name": "stdout",
     "output_type": "stream",
     "text": [
      "100.67131658\n"
     ]
    }
   ],
   "source": [
    "print(md['chisq'].mean())"
   ]
  },
  {
   "cell_type": "code",
   "execution_count": 10,
   "metadata": {},
   "outputs": [
    {
     "data": {
      "text/plain": [
       "(100.67131658037727, 13.665683880149389)"
      ]
     },
     "execution_count": 10,
     "metadata": {},
     "output_type": "execute_result"
    }
   ],
   "source": [
    "md['chisq'].mean(), md['chisq'].std()"
   ]
  },
  {
   "cell_type": "code",
   "execution_count": null,
   "metadata": {
    "collapsed": true
   },
   "outputs": [],
   "source": [
    "for index in new_array:\n",
    "    print new_array"
   ]
  },
  {
   "cell_type": "code",
   "execution_count": 13,
   "metadata": {},
   "outputs": [],
   "source": [
    "# Z statistics \n",
    "\n",
    "population_mean = md['chisq'].mean()\n",
    "first_sample_mean = new_array[0].mean()\n",
    "first_standard_deviation = new_array[0].std()\n",
    "\n",
    "N = md['chisq'].size"
   ]
  },
  {
   "cell_type": "code",
   "execution_count": 28,
   "metadata": {
    "collapsed": true
   },
   "outputs": [],
   "source": [
    "Z_1 = (population_mean - first_sample_mean)/ (first_standard_deviation/ (math.sqrt(N)))"
   ]
  },
  {
   "cell_type": "code",
   "execution_count": 29,
   "metadata": {},
   "outputs": [
    {
     "name": "stdout",
     "output_type": "stream",
     "text": [
      "-6.91715125544\n"
     ]
    }
   ],
   "source": [
    "print(Z_1)"
   ]
  },
  {
   "cell_type": "code",
   "execution_count": 41,
   "metadata": {},
   "outputs": [
    {
     "name": "stdout",
     "output_type": "stream",
     "text": [
      "-2.74702858997\n"
     ]
    }
   ],
   "source": [
    "second_sample_mean = new_array[1].mean()\n",
    "second_standard_deviation = new_array[1].std() \n",
    "    \n",
    "Z_2 = (population_mean - second_sample_mean)/ (second_standard_deviation/ (math.sqrt(N)))\n",
    "print (Z_2)"
   ]
  },
  {
   "cell_type": "code",
   "execution_count": 45,
   "metadata": {},
   "outputs": [
    {
     "name": "stdout",
     "output_type": "stream",
     "text": [
      "1.7068863238\n"
     ]
    }
   ],
   "source": [
    "third_sample_mean = new_array[2].mean()\n",
    "third_standard_deviation = new_array[2].std() \n",
    "    \n",
    "Z_3 = (population_mean - third_sample_mean)/ (third_standard_deviation/ (math.sqrt(N)))\n",
    "print (Z_3)"
   ]
  },
  {
   "cell_type": "code",
   "execution_count": 44,
   "metadata": {},
   "outputs": [
    {
     "name": "stdout",
     "output_type": "stream",
     "text": [
      "-1.78641145104\n"
     ]
    }
   ],
   "source": [
    "fourth_sample_mean = new_array[3].mean()\n",
    "fourth_standard_deviation = new_array[3].std() \n",
    "    \n",
    "Z_4 = (population_mean - fourth_sample_mean)/ (fourth_standard_deviation/ (math.sqrt(N)))\n",
    "print (Z_4)"
   ]
  },
  {
   "cell_type": "code",
   "execution_count": 46,
   "metadata": {},
   "outputs": [
    {
     "name": "stdout",
     "output_type": "stream",
     "text": [
      "10.3779400592\n"
     ]
    }
   ],
   "source": [
    "fifth_sample_mean = new_array[4].mean()\n",
    "fifth_standard_deviation = new_array[4].std() \n",
    "    \n",
    "Z_5 = (population_mean - fifth_sample_mean)/ (fifth_standard_deviation/ (math.sqrt(N)))\n",
    "print (Z_5)"
   ]
  },
  {
   "cell_type": "code",
   "execution_count": 47,
   "metadata": {},
   "outputs": [
    {
     "name": "stdout",
     "output_type": "stream",
     "text": [
      "5.76125156078\n"
     ]
    }
   ],
   "source": [
    "sixth_sample_mean = new_array[5].mean()\n",
    "sixth_standard_deviation = new_array[5].std() \n",
    "    \n",
    "Z_6 = (population_mean - sixth_sample_mean)/ (sixth_standard_deviation/ (math.sqrt(N)))\n",
    "print (Z_6)"
   ]
  },
  {
   "cell_type": "code",
   "execution_count": 48,
   "metadata": {},
   "outputs": [
    {
     "name": "stdout",
     "output_type": "stream",
     "text": [
      "-2.55814607105\n"
     ]
    }
   ],
   "source": [
    "seventh_sample_mean = new_array[6].mean()\n",
    "seventh_standard_deviation = new_array[6].std() \n",
    "    \n",
    "Z_7 = (population_mean - seventh_sample_mean)/ (seventh_standard_deviation/ (math.sqrt(N)))\n",
    "print (Z_7)"
   ]
  },
  {
   "cell_type": "code",
   "execution_count": 49,
   "metadata": {},
   "outputs": [
    {
     "name": "stdout",
     "output_type": "stream",
     "text": [
      "-2.55814607105\n"
     ]
    }
   ],
   "source": [
    "eigth_sample_mean = new_array[7].mean()\n",
    "eigth_standard_deviation = new_array[7].std() \n",
    "    \n",
    "Z_8 = (population_mean - eigth_sample_mean)/ (eigth_standard_deviation/ (math.sqrt(N)))\n",
    "print (Z_8)"
   ]
  },
  {
   "cell_type": "code",
   "execution_count": 52,
   "metadata": {},
   "outputs": [
    {
     "name": "stdout",
     "output_type": "stream",
     "text": [
      "2.06898646054\n"
     ]
    }
   ],
   "source": [
    "ninth_sample_mean = new_array[8].mean()\n",
    "ninth_standard_deviation = new_array[8].std() \n",
    "    \n",
    "Z_9 = (population_mean - ninth_sample_mean)/ (ninth_standard_deviation/ (math.sqrt(N)))\n",
    "print (Z_9)"
   ]
  },
  {
   "cell_type": "code",
   "execution_count": 54,
   "metadata": {},
   "outputs": [
    {
     "name": "stdout",
     "output_type": "stream",
     "text": [
      "2.36298196515\n"
     ]
    }
   ],
   "source": [
    "tenth_sample_mean = new_array[9].mean()\n",
    "tenth_standard_deviation = new_array[9].std() \n",
    "    \n",
    "Z_10 = (population_mean - tenth_sample_mean)/ (tenth_standard_deviation/ (math.sqrt(N)))\n",
    "print (Z_10)"
   ]
  },
  {
   "cell_type": "code",
   "execution_count": 75,
   "metadata": {},
   "outputs": [
    {
     "name": "stdout",
     "output_type": "stream",
     "text": [
      "[ -6.91715126  -2.74702859   1.70688632  -1.78641145  10.37794006\n",
      "   5.76125156  -2.55814607  -2.55814607   2.06898646   2.36298197]\n",
      "0.571116293088 4.71256200976\n"
     ]
    }
   ],
   "source": [
    "z_array = np.array([Z_1, Z_2, Z_3, Z_4, Z_5, Z_6, Z_7, Z_8, Z_9, Z_10])\n",
    "    \n",
    "print (z_array)\n",
    "print(z_array.mean(), z_array.std())"
   ]
  },
  {
   "cell_type": "code",
   "execution_count": 72,
   "metadata": {},
   "outputs": [
    {
     "data": {
      "text/plain": [
       "<matplotlib.axes._subplots.AxesSubplot at 0x11a7e8f10>"
      ]
     },
     "execution_count": 72,
     "metadata": {},
     "output_type": "execute_result"
    },
    {
     "data": {
      "image/png": "[encoded data removed]",
      "text/plain": [
       "<matplotlib.figure.Figure at 0x11a70b8d0>"
      ]
     },
     "metadata": {},
     "output_type": "display_data"
    }
   ],
   "source": [
    "sns.set_style('whitegrid')\n",
    "#sns.kdep(data, bw=0.5)\n",
    "sns.distplot(z_array, hist=True)\n",
    "sns.distplot(z_array, hist=False)\n"
   ]
  },
  {
   "cell_type": "code",
   "execution_count": 26,
   "metadata": {},
   "outputs": [
    {
     "name": "stdout",
     "output_type": "stream",
     "text": [
      "100.67131658\n",
      "106.210665727\n",
      "8.0081365027\n",
      "10.0\n"
     ]
    }
   ],
   "source": [
    "print(population_mean)\n",
    "print(first_sample_mean)\n",
    "print(first_standard_deviation)\n",
    "print(math.sqrt(N))"
   ]
  },
  {
   "cell_type": "code",
   "execution_count": 78,
   "metadata": {},
   "outputs": [
    {
     "data": {
      "text/plain": [
       "AndersonResult(statistic=0.3432575506307245, critical_values=array([ 0.501,  0.57 ,  0.684,  0.798,  0.95 ]), significance_level=array([ 15. ,  10. ,   5. ,   2.5,   1. ]))"
      ]
     },
     "execution_count": 78,
     "metadata": {},
     "output_type": "execute_result"
    }
   ],
   "source": [
    "scipy.stats.anderson(z_array, dist='norm')"
   ]
  },
  {
   "cell_type": "code",
   "execution_count": 33,
   "metadata": {
    "collapsed": true
   },
   "outputs": [],
   "source": []
  },
  {
   "cell_type": "code",
   "execution_count": 23,
   "metadata": {
    "collapsed": true
   },
   "outputs": [],
   "source": []
  },
  {
   "cell_type": "code",
   "execution_count": null,
   "metadata": {
    "scrolled": true
   },
   "outputs": [],
   "source": []
  },
  {
   "cell_type": "code",
   "execution_count": null,
   "metadata": {
    "collapsed": true
   },
   "outputs": [],
   "source": []
  },
  {
   "cell_type": "code",
   "execution_count": null,
   "metadata": {
    "scrolled": true
   },
   "outputs": [],
   "source": []
  },
  {
   "cell_type": "code",
   "execution_count": null,
   "metadata": {
    "collapsed": true
   },
   "outputs": [],
   "source": []
  }
 ],
 "metadata": {
  "kernelspec": {
   "display_name": "Python 2",
   "language": "python",
   "name": "python2"
  },
  "language_info": {
   "codemirror_mode": {
    "name": "ipython",
    "version": 2
   },
   "file_extension": ".py",
   "mimetype": "text/x-python",
   "name": "python",
   "nbconvert_exporter": "python",
   "pygments_lexer": "ipython2",
   "version": "2.7.13"
  }
 },
 "nbformat": 4,
 "nbformat_minor": 2
}
