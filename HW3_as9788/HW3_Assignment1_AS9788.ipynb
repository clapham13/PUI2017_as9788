{
 "cells": [
  {
   "cell_type": "code",
   "execution_count": 3,
   "metadata": {},
   "outputs": [
    {
     "name": "stdout",
     "output_type": "stream",
     "text": [
      "Populating the interactive namespace from numpy and matplotlib\n"
     ]
    }
   ],
   "source": [
    "#Assignment 1 in Hw3 using skelleton notebook \n",
    "\n",
    "from __future__ import print_function\n",
    "import numpy as np\n",
    "import pylab as pl\n",
    "# this package sets up pretty plots\n",
    "import seaborn\n",
    "from scipy.optimize import curve_fit, minimize\n",
    "    \n",
    "%pylab inline"
   ]
  },
  {
   "cell_type": "code",
   "execution_count": 5,
   "metadata": {},
   "outputs": [],
   "source": [
    "#GENERATE 100 samples of different sizes N (N>10 & N<2000) from each of 5 different distributions (500 samples in total), all with the same population mean\n",
    "#Include a Normal, a Poisson, a Binomial, a Chi-Squared distribution, and 1 more of your choice.\n",
    "#For each sample plot the sample mean (dependent var.) against the sample size N (independent var.) (if you want you can do it with the sample standard deviation as well).\n",
    "#Describe the behavior you see in the plots in terms of the law of large numbers.\n",
    "#PLOT the distributions of all sample means (together for all distributions). Mandatory: as a histogram. Optional: in any other way you think is convincing\n",
    "\n",
    # 1. Chi Square 
    "#numpy.random.chisquare(df, size=None)¶\n",
    "#df is the degree of freedom \n",
    "#size is optional \n",
    "\n",
    "#documentation is here: https://docs.scipy.org/doc/numpy/reference/generated/numpy.random.chisquare.html#numpy.random.chisquare\n",
    "#numpy.random.chisquare(df, size=None)\n",
    "#df is the degree of freedom \n",
    "#size is optional \n",
    "\n",
    "#distributions = ['pois', 'gaus', 'chisq', 'cauchy', 'lnorm', 'binomial']\n",
    "distributions = ['chisq']\n",
    "mymean=100 #defining a mean \n",
    "\n",
    "# the chi sq distribution takes the number of degrees of freedom, which luckily is the same as the mean!\n",
    "df = mymean\n",
    "\n",
    "md = {}\n",
    "# md is an empty dictionary\n",
    "md['chisq'] = np.random.chisquare(df, size=100)\n",
    "# md now is a dictionary with one object: an array by the key 'chisq'\n"
   ]
  },
  {
   "cell_type": "code",
   "execution_count": 6,
   "metadata": {},
   "outputs": [
    {
     "data": {
      "text/plain": [
       "{'chisq': array([ 124.49347198,   96.08670869,   86.04269233,   76.74628807,\n",
       "         107.59046953,  120.76546483,  113.06753064,   98.80007818,\n",
       "          96.67822965,   95.93712469,   94.21471162,   95.83121138,\n",
       "          98.61766508,  118.65371147,  127.88338202,   99.5311144 ,\n",
       "         102.12787178,   93.60368668,  112.45316125,  100.56705871,\n",
       "          92.89647209,  119.99295332,   94.5038554 ,   85.57674584,\n",
       "         109.69274261,   84.89062626,   89.97361759,   97.24093194,\n",
       "         101.35885403,  120.60422507,  109.16300535,   98.6605402 ,\n",
       "          77.43358852,  104.50648973,   98.33167024,   96.5773594 ,\n",
       "          99.63266154,  101.38162128,  102.91408568,   84.46153634,\n",
       "         117.76332358,   79.56204283,   92.43578671,   92.78621403,\n",
       "          86.76963371,  132.25213666,   97.37811969,   97.52872808,\n",
       "          87.55113983,   94.4276258 ,   96.33074775,   86.55293179,\n",
       "         105.60229421,  110.62182905,   82.35998737,  117.5389641 ,\n",
       "         107.02089343,   86.37401502,  118.74988071,   94.34087919,\n",
       "          86.96538632,  111.24205358,   71.47964396,  101.96498449,\n",
       "          87.61146256,  119.60566778,   84.45816145,   97.41467415,\n",
       "         118.52740121,  114.63409436,  130.34373252,   83.13324498,\n",
       "         110.68025173,   84.48163391,   88.71599352,   77.97201669,\n",
       "         110.43627342,  139.24892447,   89.01737069,  112.56311518,\n",
       "         100.49053614,  117.73939267,  116.70818662,  102.98347368,\n",
       "         114.73699996,   96.99905921,  103.39453108,   99.9826651 ,\n",
       "         128.42977303,   95.45647013,   92.81838498,   99.27807945,\n",
       "          87.73396217,  103.02096768,   99.19298873,  138.59017632,\n",
       "          90.28291769,   89.26269681,   94.20724016,  107.37950684])}"
      ]
     },
     "execution_count": 6,
     "metadata": {},
     "output_type": "execute_result"
    }
   ],
   "source": [
    "md\n"
   ]
  },
  {
   "cell_type": "code",
   "execution_count": 7,
   "metadata": {},
   "outputs": [
    {
     "data": {
      "text/plain": [
       "<matplotlib.text.Text at 0x9ff3ec70>"
      ]
     },
     "execution_count": 7,
     "metadata": {},
     "output_type": "execute_result"
    },
    {
     "data": {
      "image/png": "iVBORw0KGgoAAAANSUhEUgAAAYIAAAEKCAYAAAAfGVI8AAAABHNCSVQICAgIfAhkiAAAAAlwSFlz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\n/wfhzp9P0zYsPQAAAABJRU5ErkJggg==\n",
      "text/plain": [
       "<matplotlib.figure.Figure at 0xa0067910>"
      ]
     },
     "metadata": {},
     "output_type": "display_data"
    }
   ],
   "source": [
    "pl.hist(md['chisq'], bins = 30)\n",
    "pl.ylabel('N')\n",
    "pl.xlabel('x')"
   ]
  },
  {
   "cell_type": "code",
   "execution_count": 8,
   "metadata": {},
   "outputs": [
    {
     "name": "stdout",
     "output_type": "stream",
     "text": [
      "Chisq mean: 101.13, standard deviation: 14.06\n"
     ]
    }
   ],
   "source": [
    "print (\"Chisq mean: %.2f, standard deviation: %.2f\"%(md['chisq'].mean(), md['chisq'].std()))"
   ]
  },
  {
   "cell_type": "code",
   "execution_count": 9,
   "metadata": {},
   "outputs": [
    {
     "data": {
      "text/plain": [
       "array([ 124.49347198,   96.08670869,   86.04269233,   76.74628807,\n",
       "        107.59046953,  120.76546483,  113.06753064,   98.80007818,\n",
       "         96.67822965,   95.93712469,   94.21471162,   95.83121138,\n",
       "         98.61766508,  118.65371147,  127.88338202,   99.5311144 ,\n",
       "        102.12787178,   93.60368668,  112.45316125,  100.56705871,\n",
       "         92.89647209,  119.99295332,   94.5038554 ,   85.57674584,\n",
       "        109.69274261,   84.89062626,   89.97361759,   97.24093194,\n",
       "        101.35885403,  120.60422507,  109.16300535,   98.6605402 ,\n",
       "         77.43358852,  104.50648973,   98.33167024,   96.5773594 ,\n",
       "         99.63266154,  101.38162128,  102.91408568,   84.46153634,\n",
       "        117.76332358,   79.56204283,   92.43578671,   92.78621403,\n",
       "         86.76963371,  132.25213666,   97.37811969,   97.52872808,\n",
       "         87.55113983,   94.4276258 ,   96.33074775,   86.55293179,\n",
       "        105.60229421,  110.62182905,   82.35998737,  117.5389641 ,\n",
       "        107.02089343,   86.37401502,  118.74988071,   94.34087919,\n",
       "         86.96538632,  111.24205358,   71.47964396,  101.96498449,\n",
       "         87.61146256,  119.60566778,   84.45816145,   97.41467415,\n",
       "        118.52740121,  114.63409436,  130.34373252,   83.13324498,\n",
       "        110.68025173,   84.48163391,   88.71599352,   77.97201669,\n",
       "        110.43627342,  139.24892447,   89.01737069,  112.56311518,\n",
       "        100.49053614,  117.73939267,  116.70818662,  102.98347368,\n",
       "        114.73699996,   96.99905921,  103.39453108,   99.9826651 ,\n",
       "        128.42977303,   95.45647013,   92.81838498,   99.27807945,\n",
       "         87.73396217,  103.02096768,   99.19298873,  138.59017632,\n",
       "         90.28291769,   89.26269681,   94.20724016,  107.37950684])"
      ]
     },
     "execution_count": 9,
     "metadata": {},
     "output_type": "execute_result"
    }
   ],
   "source": [
    "md['chisq']"
   ]
  },
  {
   "cell_type": "code",
   "execution_count": 8,
   "metadata": {},
   "outputs": [
    {
     "name": "stdout",
     "output_type": "stream",
     "text": [
      "[2000 1000  666  500  400  333  285  250  222  200  181  166  153  142  133\n",
      "  125  117  111  105  100   95   90   86   83   80   76   74   71   68   66\n",
      "   64   62   60   58   57   55   54   52   51   50   48   47   46   45   44\n",
      "   43   42   41   40   40   39   38   37   37   36   35   35   34   33   33\n",
      "   32   32   31   31   30   30   29   29   28   28   28   27   27   27   26\n",
      "   26   25   25   25   25   24   24   24   23   23   23   22   22   22   22\n",
      "   21   21   21   21   21   20   20   20   20] (99,)\n"
     ]
    }
   ],
   "source": [
    "#Creating a distribution of different sizes\n",
    "\n",
    "mysize = (2000 / (np.array(range(1, 100)))).astype(int)\n",
    "print (mysize, mysize.shape)\n",
    "\n"
   ]
  },
  {
   "cell_type": "code",
   "execution_count": 12,
   "metadata": {},
   "outputs": [],
   "source": [
    "#overwritting the dictionary \n",
    "md['chisq'] = {} \n"
   ]
  },
  {
   "cell_type": "code",
   "execution_count": 13,
   "metadata": {},
   "outputs": [],
   "source": [
    "#populating the dictionary with different sized chi distributions \n",
    "for n in mysize:\n",
    "    md['chisq'][n] = np.random.chisquare(df, size = n)\n",
    "    "
   ]
  },
  {
   "cell_type": "code",
   "execution_count": 14,
   "metadata": {},
   "outputs": [],
   "source": [
    "md['chisq']['means'] = {}"
   ]
  },
  {
   "cell_type": "markdown",
   "metadata": {},
   "source": [
    "md['chisq']['means']\n"
   ]
  },
  {
   "cell_type": "code",
   "execution_count": 18,
   "metadata": {},
   "outputs": [
    {
     "data": {
      "image/png": "iVBORw0KGgoAAAANSUhEUgAAAm8AAAGPCAYAAAAKmjeXAAAABHNCSVQICAgIfAhkiAAAAAlwSFlz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\nRK5CYII=\n",
      "text/plain": [
       "<matplotlib.figure.Figure at 0x9e70c2f0>"
      ]
     },
     "metadata": {},
     "output_type": "display_data"
    }
   ],
   "source": [
    "axchisq_mu_n = pl.figure(figsize=(10,6)).add_subplot(111)\n",
    "for nn in md['chisq']:\n",
    "    if not type(nn) == str:\n",
    "        md['chisq']['means'][nn] = md['chisq'][nn].mean()\n",
    "        #and plot it\n",
    "        axchisq_mu_n.plot(nn, md['chisq']['means'][nn], 'o')\n",
    "        axchisq_mu_n.set_xlabel('sample size', fontsize=18)\n",
    "        axchisq_mu_n.set_ylabel('sample mean', fontsize=18)\n",
    "        axchisq_mu_n.set_title('Chi squared', fontsize=18)\n",
    "        axchisq_mu_n.plot([min(mysize), max(mysize)], [df, df], 'k')\n"
   ]
  },
  {
   "cell_type": "code",
   "execution_count": 22,
   "metadata": {},
   "outputs": [
    {
     "data": {
      "text/plain": [
       "<matplotlib.text.Text at 0x9e3ae150>"
      ]
     },
     "execution_count": 22,
     "metadata": {},
     "output_type": "execute_result"
    },
    {
     "data": {
      "image/png": "iVBORw0KGgoAAAANSUhEUgAAAmMAAAJYCAYAAAAudeETAAAABHNCSVQICAgIfAhkiAAAAAlwSFlz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\nAAwSYwAAg8QYAMAgMQYAMEiMAQAM+v/WKNrNqXecVQAAAABJRU5ErkJggg==\n",
      "text/plain": [
       "<matplotlib.figure.Figure at 0x9e3a7130>"
      ]
     },
     "metadata": {},
     "output_type": "display_data"
    }
   ],
   "source": [
    "#The frequency distribution for all means \n",
    "allmeans = list(md['chisq']['means'].values())\n",
    "\n",
    "pl.figure(figsize=(10, 10))\n",
    "pl.hist(allmeans,bins=30)\n",
    "pl.xlabel('sample means of chi', fontsize = 18)\n",
    "pl.ylabel('N', fontsize = 18)"
   ]
  },
  {
   "cell_type": "code",
   "execution_count": 23,
   "metadata": {},
   "outputs": [
    {
     "data": {
      "text/plain": [
       "<matplotlib.text.Text at 0x9e7c8e90>"
      ]
     },
     "execution_count": 23,
     "metadata": {},
     "output_type": "execute_result"
    },
    {
     "data": {
      "image/png": "iVBORw0KGgoAAAANSUhEUgAAAYIAAAEKCAYAAAAfGVI8AAAABHNCSVQICAgIfAhkiAAAAAlwSFlz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\nNWcRSFJz/wdSyL2J2y7QwgAAAABJRU5ErkJggg==\n",
      "text/plain": [
       "<matplotlib.figure.Figure at 0x9e82f1b0>"
      ]
     },
     "metadata": {},
     "output_type": "display_data"
    }
   ],
   
   # 2. Normal
   "source": [
    "#numpy.random.normal(loc=0.0, scale=1.0, size=None)\n",
    "#Draw random samples from a normal (Gaussian) distribution.\n",
    "# loc is mean; scale is standard deviation ; \n",
    "#we will model the special case where mean is zero and standard deviation is 1 \n",
    "\n",
    "distributions = ['normal']\n",
    "mymean=0 #defining a mean \n",
    "stdev=1\n",
    "\n",
    "md1 = {}\n",
    "# md is an empty disctionary\n",
    "md1['normal'] = np.random.normal(mymean, stdev, size=100)\n",
    "# md now is a dictionary with one object: an array by the key 'chisq'\n",
    "pl.hist(md1['normal'], bins = 30)\n",
    "pl.ylabel('N')\n",
    "pl.xlabel('x')"
   ]
  },
  {
   "cell_type": "code",
   "execution_count": 24,
   "metadata": {},
   "outputs": [
    {
     "name": "stdout",
     "output_type": "stream",
     "text": [
      "Normal mean: -0.24, standard deviation: 0.96\n"
     ]
    }
   ],
   "source": [
    "print (\"Normal mean: %.2f, standard deviation: %.2f\"%(md1['normal'].mean(), md1['normal'].std()))"
   ]
  },
  {
   "cell_type": "code",
   "execution_count": 25,
   "metadata": {},
   "outputs": [
    {
     "data": {
      "text/plain": [
       "array([-0.27990064,  0.76287618, -1.05364131,  0.54946806, -0.4477357 ,\n",
       "        1.85808711,  0.13601309, -0.82489606, -1.08358196, -0.36703607,\n",
       "        0.26505573, -0.31234503,  0.39732412, -0.1159624 , -0.19308393,\n",
       "       -0.3520533 ,  0.17923849, -1.87997198,  0.73316897, -0.50719767,\n",
       "       -0.46072549,  1.21912852, -0.9804532 ,  0.11817998,  0.10065202,\n",
       "        0.34874619, -0.23017692, -0.97452381, -2.182335  ,  0.08734291,\n",
       "        1.67487961,  0.04043644,  0.48959531, -1.21424736, -0.09651774,\n",
       "       -1.80403534, -0.27951341,  0.06795741, -1.10334634, -0.26227972,\n",
       "        1.05114452, -0.26221779, -0.29292187, -0.73453891,  0.07495891,\n",
       "        0.72741179, -0.95658654,  0.82610142,  0.62916485, -0.63819567,\n",
       "       -0.69182326, -1.50132971,  0.5052374 ,  0.48527446, -1.52836757,\n",
       "       -2.21644329,  1.38075537,  0.93484668,  1.4450064 ,  0.48099741,\n",
       "       -1.49828658,  0.11887752, -2.17101737, -1.2649335 , -1.15948896,\n",
       "        1.18667403, -0.80209456, -0.36213051, -0.60151063,  0.25820494,\n",
       "       -1.44596782, -0.47263679, -1.01966241, -1.74837369, -1.38653949,\n",
       "        0.46620978,  1.39205535, -0.09239489,  0.01295849, -1.86604392,\n",
       "        0.71020436, -0.90452517, -0.07525578, -0.26933514, -1.00169563,\n",
       "       -1.4281462 , -1.10830562, -0.01203942,  1.76401494,  1.26543029,\n",
       "       -0.67636446,  0.06077312, -1.42717463, -0.20532356, -1.59653258,\n",
       "        0.8473964 ,  0.24027969,  1.06110637,  0.95132857, -1.62553591])"
      ]
     },
     "execution_count": 25,
     "metadata": {},
     "output_type": "execute_result"
    }
   ],
   "source": [
    "md1['normal']"
   ]
  },
  {
   "cell_type": "code",
   "execution_count": 26,
   "metadata": {},
   "outputs": [],
   "source": [
    "#Reusing this from above, no need to re-create\n",
    "##Creating a distribution of different sizes\n",
    "\n",
    "#mysize = (2000 / (np.array(range(1, 100)))).astype(int)\n",
    "#print (mysize, mysize.shape)\n",
    "\n",
    "#overwritting the dictionary \n",
    "md1['normal'] = {} \n",
    "\n",
    "#populating the dictionary with different sized chi distributions \n",
    "for n in mysize:\n",
    "    md1['normal'][n] = np.random.normal(mymean, stdev, size = n)\n",
    "    "
   ]
  },
  {
   "cell_type": "code",
   "execution_count": 27,
   "metadata": {},
   "outputs": [],
   "source": [
    "md1['normal']['means'] = {}"
   ]
  },
  {
   "cell_type": "code",
   "execution_count": 29,
   "metadata": {},
   "outputs": [
    {
     "data": {
      "image/png": "iVBORw0KGgoAAAANSUhEUgAAAnUAAAGPCAYAAAA6Fia2AAAABHNCSVQICAgIfAhkiAAAAAlwSFlz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\nMNRJkiT1gKFOkiSpB34CKZ3oGQFS8MEAAAAASUVORK5CYII=\n",
      "text/plain": [
       "<matplotlib.figure.Figure at 0x9dbc7bf0>"
      ]
     },
     "metadata": {},
     "output_type": "display_data"
    }
   ],
   "source": [
    "norm_mu_n = pl.figure(figsize=(10,6)).add_subplot(111)\n",
    "for nn in md1['normal']:\n",
    "    if not type(nn) == str:\n",
    "        md1['normal']['means'][nn] = md1['normal'][nn].mean()\n",
    "        #and plot it\n",
    "        norm_mu_n.plot(nn, md1['normal']['means'][nn], 'o')\n",
    "        norm_mu_n.set_xlabel('sample size', fontsize=18)\n",
    "        norm_mu_n.set_ylabel('sample mean', fontsize=18)\n",
    "        norm_mu_n.set_title('Normal', fontsize=18)\n",
    "        norm_mu_n.plot([min(mysize), max(mysize)], [mymean, mymean], 'k')\n"
   ]
  },
  {
   "cell_type": "code",
   "execution_count": 30,
   "metadata": {},
   "outputs": [
    {
     "data": {
      "text/plain": [
       "<matplotlib.text.Text at 0x9d88bf90>"
      ]
     },
     "execution_count": 30,
     "metadata": {},
     "output_type": "execute_result"
    },
    {
     "data": {
      "image/png": "iVBORw0KGgoAAAANSUhEUgAAAmMAAAJYCAYAAAAudeETAAAABHNCSVQICAgIfAhkiAAAAAlwSFlz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\nxBgAQCMxBgDQ6N8B3ueHBOE6la0AAAAASUVORK5CYII=\n",
      "text/plain": [
       "<matplotlib.figure.Figure at 0x9e797f10>"
      ]
     },
     "metadata": {},
     "output_type": "display_data"
    }
   ],
   "source": [
    "#The frequency distribution for all means \n",
    "allmeans = list(md1['normal']['means'].values())\n",
    "\n",
    "pl.figure(figsize=(10, 10))\n",
    "pl.hist(allmeans,bins=30)\n",
    "pl.xlabel('sample means of normal', fontsize = 18)\n",
    "pl.ylabel('N', fontsize = 18)"
   ]
  },
  {
   "cell_type": "code",
   "execution_count": 31,
   "metadata": {},
   "outputs": [
    {
     "data": {
      "text/plain": [
       "<matplotlib.text.Text at 0x9d72d870>"
      ]
     },
     "execution_count": 31,
     "metadata": {},
     "output_type": "execute_result"
    },
    {
     "data": {
      "image/png": "iVBORw0KGgoAAAANSUhEUgAAAYIAAAEKCAYAAAAfGVI8AAAABHNCSVQICAgIfAhkiAAAAAlwSFlz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\n6pxBIEmd+z+kTuvKYZG2dgAAAABJRU5ErkJggg==\n",
      "text/plain": [
       "<matplotlib.figure.Figure at 0x9d932a30>"
      ]
     },
     "metadata": {},
     "output_type": "display_data"
    }
   ],
   
   #3. Poisson
   "source": [
    "#Poisson\n",
    "#numpy.random.poisson(lam=1.0, size=None)\n",
    "#lam is expectation of interval\n",
    "#https://docs.scipy.org/doc/numpy/reference/generated/numpy.random.poisson.html#numpy.random.poisson\n",
    "\n",
    "distributions = ['poisson']\n",
    "lam=1 #defining a lambda\n",
    "\n",
    "\n",
    "md2 = {}\n",
    "# md is an empty disctionary\n",
    "md2['poisson'] = np.random.poisson(lam, size=100)\n",
    "# md now is a dictionary with one object: an array by the key 'chisq'\n",
    "pl.hist(md2['poisson'], bins = 30)\n",
    "pl.ylabel('N')\n",
    "pl.xlabel('x')"
   ]
  },
  {
   "cell_type": "code",
   "execution_count": 32,
   "metadata": {},
   "outputs": [
    {
     "name": "stdout",
     "output_type": "stream",
     "text": [
      "Poisson mean: 1.10, standard deviation: 0.94\n"
     ]
    }
   ],
   "source": [
    "print (\"Poisson mean: %.2f, standard deviation: %.2f\"%(md2['poisson'].mean(), md2['poisson'].std()))"
   ]
  },
  {
   "cell_type": "code",
   "execution_count": 33,
   "metadata": {},
   "outputs": [
    {
     "data": {
      "text/plain": [
       "array([1, 2, 2, 1, 1, 2, 3, 2, 3, 1, 2, 3, 1, 1, 1, 1, 1, 2, 0, 0, 1, 0, 1,\n",
       "       0, 2, 2, 3, 1, 1, 1, 1, 0, 1, 2, 0, 0, 1, 3, 1, 1, 0, 2, 2, 2, 1, 1,\n",
       "       2, 1, 0, 0, 0, 2, 2, 0, 2, 1, 0, 2, 1, 0, 2, 1, 2, 0, 0, 1, 1, 0, 2,\n",
       "       1, 0, 0, 1, 0, 2, 1, 2, 0, 0, 0, 0, 1, 1, 5, 1, 0, 2, 2, 1, 1, 1, 0,\n",
       "       1, 0, 1, 0, 0, 1, 1, 2])"
      ]
     },
     "execution_count": 33,
     "metadata": {},
     "output_type": "execute_result"
    }
   ],
   "source": [
    "md2['poisson']"
   ]
  },
  {
   "cell_type": "code",
   "execution_count": 34,
   "metadata": {},
   "outputs": [],
   "source": [
    "#Reusing this from above, no need to re-create\n",
    "##Creating a distribution of different sizes\n",
    "\n",
    "#mysize = (2000 / (np.array(range(1, 100)))).astype(int)\n",
    "#print (mysize, mysize.shape)\n",
    "\n",
    "#overwritting the dictionary \n",
    "md2['poisson'] = {} \n",
    "\n",
    "#populating the dictionary with different sized chi distributions \n",
    "for n in mysize:\n",
    "    md2['poisson'][n] = np.random.poisson(lam, size = n)\n",
    "    \n",
    "    \n",
    "    "
   ]
  },
  {
   "cell_type": "code",
   "execution_count": 35,
   "metadata": {},
   "outputs": [],
   "source": [
    "md2['poisson']['means'] = {}"
   ]
  },
  {
   "cell_type": "code",
   "execution_count": 37,
   "metadata": {},
   "outputs": [
    {
     "data": {
      "image/png": "iVBORw0KGgoAAAANSUhEUgAAAmwAAAGPCAYAAADhrYyUAAAABHNCSVQICAgIfAhkiAAAAAlwSFlz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\nRU5ErkJggg==\n",
      "text/plain": [
       "<matplotlib.figure.Figure at 0x9d4b0ad0>"
      ]
     },
     "metadata": {},
     "output_type": "display_data"
    }
   ],
   "source": [
    "poisson_mu_n = pl.figure(figsize=(10,6)).add_subplot(111)\n",
    "for nn in md2['poisson']:\n",
    "    if not type(nn) == str:\n",
    "        md2['poisson']['means'][nn] = md2['poisson'][nn].mean()\n",
    "        #and plot it\n",
    "        poisson_mu_n.plot(nn, md2['poisson']['means'][nn], 'o')\n",
    "        poisson_mu_n.set_xlabel('sample size', fontsize=18)\n",
    "        poisson_mu_n.set_ylabel('sample mean', fontsize=18)\n",
    "        poisson_mu_n.set_title('Poisson', fontsize=18)\n",
    "        poisson_mu_n.plot([min(mysize), max(mysize)], [lam, lam], 'k')\n"
   ]
  },
  {
   "cell_type": "code",
   "execution_count": 38,
   "metadata": {},
   "outputs": [
    {
     "data": {
      "text/plain": [
       "<matplotlib.text.Text at 0x9d106290>"
      ]
     },
     "execution_count": 38,
     "metadata": {},
     "output_type": "execute_result"
    },
    {
     "data": {
      "image/png": "iVBORw0KGgoAAAANSUhEUgAAAmkAAAJYCAYAAAA5V3HaAAAABHNCSVQICAgIfAhkiAAAAAlwSFlz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\nrw91JDNQAAAAAElFTkSuQmCC\n",
      "text/plain": [
       "<matplotlib.figure.Figure at 0x9d48ecf0>"
      ]
     },
     "metadata": {},
     "output_type": "display_data"
    }
   ],
   "source": [
    "#The frequency distribution for all means \n",
    "allmeans = list(md2['poisson']['means'].values())\n",
    "\n",
    "pl.figure(figsize=(10, 10))\n",
    "pl.hist(allmeans,bins=30)\n",
    "pl.xlabel('sample means of poisson', fontsize = 18)\n",
    "pl.ylabel('N', fontsize = 18)"
   ]
  },
  {
   "cell_type": "code",
   "execution_count": 39,
   "metadata": {},
   "outputs": [
    {
     "data": {
      "text/plain": [
       "<matplotlib.text.Text at 0x9dbc3630>"
      ]
     },
     "execution_count": 39,
     "metadata": {},
     "output_type": "execute_result"
    },
    {
     "data": {
      "image/png": "iVBORw0KGgoAAAANSUhEUgAAAYIAAAEKCAYAAAAfGVI8AAAABHNCSVQICAgIfAhkiAAAAAlwSFlz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\nAACS+1/Lm5kvSrz/WAAAAABJRU5ErkJggg==\n",
      "text/plain": [
       "<matplotlib.figure.Figure at 0x9d145b30>"
      ]
     },
     "metadata": {},
     "output_type": "display_data"
    }
   ],
   
   # 3. Binomial
   "source": [
    "#Binomial Distribution\n",
    "\n",
    "#numpy.random.binomial(n, p, size=None)\n",
    "#n is the number of trials, parameter of the distribution\n",
    "#p is the probability of success, between 0 and 1 truncated to int\n",
    "#size is number of trials of the model\n",
    "#https://docs.scipy.org/doc/numpy/reference/generated/numpy.random.binomial.html#numpy.random.binomial\n",
    "\n",
    "\n",
    "distributions = ['binomial']\n",
    "n=2 #defining number of trials\n",
    "p=.5\n",
    "\n",
    "md3 = {}\n",
    "# md is an empty disctionary\n",
    "md3['binomial'] = np.random.binomial(n,p, size=100)\n",
    "# md now is a dictionary with one object: an array by the key 'chisq'\n",
    "pl.hist(md3['binomial'], bins = 30)\n",
    "pl.ylabel('N')\n",
    "pl.xlabel('x')"
   ]
  },
  {
   "cell_type": "code",
   "execution_count": 40,
   "metadata": {},
   "outputs": [
    {
     "name": "stdout",
     "output_type": "stream",
     "text": [
      "Binomial mean: 1.02, standard deviation: 0.73\n"
     ]
    }
   ],
   "source": [
    "print (\"Binomial mean: %.2f, standard deviation: %.2f\"%(md3['binomial'].mean(), md3['binomial'].std()))"
   ]
  },
  {
   "cell_type": "code",
   "execution_count": 42,
   "metadata": {},
   "outputs": [
    {
     "data": {
      "text/plain": [
       "array([1, 2, 2, 0, 1, 1, 2, 1, 1, 1, 1, 1, 1, 1, 1, 1, 2, 1, 1, 2, 2, 1, 1,\n",
       "       0, 1, 2, 0, 2, 1, 0, 2, 0, 2, 1, 1, 0, 1, 0, 0, 2, 1, 1, 0, 1, 2, 1,\n",
       "       1, 0, 0, 1, 1, 0, 0, 2, 1, 0, 2, 1, 1, 1, 1, 0, 1, 0, 0, 0, 1, 2, 2,\n",
       "       0, 0, 0, 2, 1, 0, 2, 2, 1, 0, 0, 1, 0, 2, 1, 2, 1, 2, 2, 0, 1, 2, 1,\n",
       "       2, 1, 1, 2, 1, 2, 2, 1])"
      ]
     },
     "execution_count": 42,
     "metadata": {},
     "output_type": "execute_result"
    }
   ],
   "source": [
    "md3['binomial']"
   ]
  },
  {
   "cell_type": "code",
   "execution_count": 43,
   "metadata": {},
   "outputs": [],
   "source": [
    "#Reusing this from above, no need to re-create\n",
    "##Creating a distribution of different sizes\n",
    "\n",
    "#mysize = (2000 / (np.array(range(1, 100)))).astype(int)\n",
    "#print (mysize, mysize.shape)\n",
    "\n",
    "#overwritting the dictionary \n",
    "md3['binomial'] = {} \n",
    "\n",
    "#populating the dictionary with different sized chi distributions \n",
    "for n in mysize:\n",
    "    md3['binomial'][n] = np.random.binomial(n,p, size = n)\n",
    "    "
   ]
  },
  {
   "cell_type": "code",
   "execution_count": 45,
   "metadata": {},
   "outputs": [],
   "source": [
    "md3['binomial']['means'] = {}"
   ]
  },
  {
   "cell_type": "code",
   "execution_count": 48,
   "metadata": {},
   "outputs": [
    {
     "data": {
      "image/png": "iVBORw0KGgoAAAANSUhEUgAAAnYAAAGPCAYAAADRIZ21AAAABHNCSVQICAgIfAhkiAAAAAlwSFlz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\n",
      "text/plain": [
       "<matplotlib.figure.Figure at 0x9cc675b0>"
      ]
     },
     "metadata": {},
     "output_type": "display_data"
    }
   ],
   "source": [
    "binomial_mu_n = pl.figure(figsize=(10,6)).add_subplot(111)\n",
    "for nn in md3['binomial']:\n",
    "    if not type(nn) == str:\n",
    "        md3['binomial']['means'][nn] = md3['binomial'][nn].mean()\n",
    "        #and plot it\n",
    "        binomial_mu_n.plot(nn, md3['binomial']['means'][nn], 'o')\n",
    "        binomial_mu_n.set_xlabel('sample size', fontsize=18)\n",
    "        binomial_mu_n.set_ylabel('sample mean', fontsize=18)\n",
    "        binomial_mu_n.set_title('Binomial', fontsize=18)\n",
    "        binomial_mu_n.plot([min(mysize), max(mysize)], [p,p ], 'k')\n",
    "#question re:n vs p , k "
   ]
  },
  {
   "cell_type": "code",
   "execution_count": 4,
   "metadata": {},
   "outputs": [
    {
     "data": {
      "text/plain": [
       "<matplotlib.text.Text at 0xa2c31e90>"
      ]
     },
     "execution_count": 4,
     "metadata": {},
     "output_type": "execute_result"
    },
    {
     "data": {
      "image/png": "iVBORw0KGgoAAAANSUhEUgAAAXwAAAEKCAYAAAARnO4WAAAABHNCSVQICAgIfAhkiAAAAAlwSFlz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\nAElFTkSuQmCC\n",
      "text/plain": [
       "<matplotlib.figure.Figure at 0xa2cf9b30>"
      ]
     },
     "metadata": {},
     "output_type": "display_data"
    }
   ],
   
   # 4. Beta Distribution
   "source": [
    "# Beta Distribution\n",
    "#numpy.random.beta(a, b, size=None)\n",
    "#Draw samples from a Beta distribution.\n",
    "\n",
    "#https://docs.scipy.org/doc/numpy/reference/generated/numpy.random.beta.html#numpy.random.beta\n",
    "# a is non negative\n",
    "# b is non negative \n",
    "\n",
    "distributions = ['beta']\n",
    "a=1 #defining a\n",
    "b=1 #defining b \n",
    "\n",
    "\n",
    "md4 = {}\n",
    "# md is an empty disctionary\n",
    "md4['beta'] = np.random.beta(a,b, size=100)\n",
    "# md now is a dictionary with one object: an array by the key 'chisq'\n",
    "pl.hist(md4['beta'], bins = 30)\n",
    "pl.ylabel('N')\n",
    "pl.xlabel('x')"
   ]
  },
  {
   "cell_type": "code",
   "execution_count": 5,
   "metadata": {},
   "outputs": [
    {
     "name": "stdout",
     "output_type": "stream",
     "text": [
      "Beta mean: 0.53, standard deviation: 0.29\n"
     ]
    }
   ],
   "source": [
    "print (\"Beta mean: %.2f, standard deviation: %.2f\"%(md4['beta'].mean(), md4['beta'].std()))"
   ]
  },
  {
   "cell_type": "code",
   "execution_count": 6,
   "metadata": {},
   "outputs": [
    {
     "data": {
      "text/plain": [
       "array([ 0.43515036,  0.66402911,  0.01240009,  0.15303945,  0.79793124,\n",
       "        0.66906244,  0.82518255,  0.54483067,  0.73684681,  0.79886136,\n",
       "        0.69519509,  0.80252577,  0.66377682,  0.9085343 ,  0.4115175 ,\n",
       "        0.725404  ,  0.74369602,  0.20049449,  0.93082579,  0.71965033,\n",
       "        0.15551957,  0.21744188,  0.88255816,  0.95837902,  0.1047928 ,\n",
       "        0.9175231 ,  0.054525  ,  0.16176137,  0.80244179,  0.05577616,\n",
       "        0.85973709,  0.19493599,  0.57892462,  0.28365389,  0.34143195,\n",
       "        0.05009472,  0.74931235,  0.77601363,  0.50823603,  0.62667948,\n",
       "        0.42793539,  0.82963225,  0.67569577,  0.47672069,  0.6277507 ,\n",
       "        0.16725376,  0.45642738,  0.37262641,  0.9668627 ,  0.21998436,\n",
       "        0.61225231,  0.58583061,  0.44867378,  0.1892618 ,  0.69655201,\n",
       "        0.80254331,  0.41077537,  0.85954912,  0.31864083,  0.49335306,\n",
       "        0.00126577,  0.03122066,  0.63002581,  0.55656057,  0.84310534,\n",
       "        0.1395563 ,  0.07391508,  0.3167495 ,  0.85774778,  0.18385983,\n",
       "        0.60250758,  0.67872748,  0.87951483,  0.1500915 ,  0.82379447,\n",
       "        0.12090416,  0.08910153,  0.8875107 ,  0.72330594,  0.3655198 ,\n",
       "        0.38817201,  0.05858143,  0.73462882,  0.54583705,  0.77774493,\n",
       "        0.84665736,  0.38439328,  0.02210114,  0.41567261,  0.56804024,\n",
       "        0.8775371 ,  0.72806036,  0.63803559,  0.82330522,  0.45554008,\n",
       "        0.15076182,  0.66155116,  0.93831798,  0.64448398,  0.88525273])"
      ]
     },
     "execution_count": 6,
     "metadata": {},
     "output_type": "execute_result"
    }
   ],
   "source": [
    "md4['beta']"
   ]
  },
  {
   "cell_type": "code",
   "execution_count": 9,
   "metadata": {},
   "outputs": [],
   "source": [
    "#Reusing this from above, no need to re-create\n",
    "##Creating a distribution of different sizes\n",
    "\n",
    "#mysize = (2000 / (np.array(range(1, 100)))).astype(int)\n",
    "#print (mysize, mysize.shape)\n",
    "\n",
    "#overwritting the dictionary \n",
    "md4['beta'] = {} \n",
    "\n",
    "#populating the dictionary with different sized chi distributions \n",
    "for n in mysize:\n",
    "    md4['beta'][n] = np.random.beta(a,b, size = n)\n",
    "    "
   ]
  },
  {
   "cell_type": "code",
   "execution_count": 10,
   "metadata": {},
   "outputs": [],
   "source": [
    "md4['beta']['means'] = {}"
   ]
  },
  {
   "cell_type": "code",
   "execution_count": 11,
   "metadata": {},
   "outputs": [
    {
     "data": {
      "image/png": "iVBORw0KGgoAAAANSUhEUgAAAmwAAAGPCAYAAADhrYyUAAAABHNCSVQICAgIfAhkiAAAAAlwSFlz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\nmyRJUokzsEmSJJU4A5skSVKJ+/8vack8hvUQmgAAAABJRU5ErkJggg==\n",
      "text/plain": [
       "<matplotlib.figure.Figure at 0xa1ba5d70>"
      ]
     },
     "metadata": {},
     "output_type": "display_data"
    }
   ],
   "source": [
    "beta_mu_n = pl.figure(figsize=(10,6)).add_subplot(111)\n",
    "for nn in md4['beta']:\n",
    "    if not type(nn) == str:\n",
    "        md4['beta']['means'][nn] = md4['beta'][nn].mean()\n",
    "        #and plot it\n",
    "        beta_mu_n.plot(nn, md4['beta']['means'][nn], 'o')\n",
    "        beta_mu_n.set_xlabel('sample size', fontsize=18)\n",
    "        beta_mu_n.set_ylabel('sample mean', fontsize=18)\n",
    "        beta_mu_n.set_title('Beta', fontsize=18)\n",
    "        beta_mu_n.plot([min(mysize), max(mysize)], [a,a], 'k')\n",
    "#question re:a vs b "
   ]
  },
  {
   "cell_type": "code",
   "execution_count": null,
   "metadata": {},
   "outputs": [],
   "source": []
  }
 ],
 "metadata": {
  "kernelspec": {
   "display_name": "Python 3",
   "language": "python",
   "name": "python3"
  },
  "language_info": {
   "codemirror_mode": {
    "name": "ipython",
    "version": 3
   },
   "file_extension": ".py",
   "mimetype": "text/x-python",
   "name": "python",
   "nbconvert_exporter": "python",
   "pygments_lexer": "ipython3",
   "version": "3.6.2"
  }
 },
 "nbformat": 4,
 "nbformat_minor": 2
}
