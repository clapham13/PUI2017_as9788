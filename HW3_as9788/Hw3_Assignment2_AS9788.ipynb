{
 "cells": [
  {
   "cell_type": "code",
   "execution_count": 6,
   "metadata": {},
   "outputs": [
    {
     "name": "stdout",
     "output_type": "stream",
     "text": [
      "The history saving thread hit an unexpected error (OperationalError('database or disk is full',)).History will not be written to the database.\n",
      "Populating the interactive namespace from numpy and matplotlib\n"
     ]
    }
   ],
   "source": [
    "#Group HW with Assel @AD4336\n",
    "\n",
    "#Assignment 2 Citibike Data using example notebook \n",
    "from __future__  import print_function, division\n",
    "import pylab as pl\n",
    "import pandas as pd\n",
    "import numpy as np\n",
    "import os\n",
    "\n",
    "%pylab inline\n",
    "\n",
    "if os.getenv ('PUI2017') is None:\n",
    "    print (\"Must set env variable PUI2017\")\n",
    "if os.getenv ('PUIDATA') is None:\n",
    "    print (\"Must set env variable PUIDATA\")\n",
    "\n",
    "import os\n",
    "import json\n",
    "#s = json.load( open(os.getenv('PUI2017') + \"/fbb_matplotlibrc.json\") )\n",
    "#pl.rcParams.update(s)"
   ]
  },
  {
   "cell_type": "code",
   "execution_count": 3,
   "metadata": {},
   "outputs": [
    {
     "data": {
      "text/plain": [
       "256"
      ]
     },
     "execution_count": 3,
     "metadata": {},
     "output_type": "execute_result"
    }
   ],
   "source": [
    "#download the two Citibike dataset files \n",
    "os.system(\"curl -O https://s3.amazonaws.com/tripdata/201601-citibike-tripdata.zip\")\n",
    "\n",
    "os.system(\"curl -O https://s3.amazonaws.com/tripdata/201607-citibike-tripdata.zip\")\n",
    "\n",
    "                ###  To move it, use the os.system() functions to run bash commands with arguments\n",
    "os.system(\"mv 201601-citibike-tripdata.zip \" + os.getenv(\"PUIDATA\"))\n",
    "os.system(\"mv 201607-citibike-tripdata.zip \" + os.getenv(\"PUIDATA\"))\n",
    "\n",
    "            ### unzip the csv \n",
    "os.system(\"unzip \" + os.getenv(\"PUIDATA\") + \"/201601-citibike-tripdata.zip\")\n",
    "os.system(\"unzip \" + os.getenv(\"PUIDATA\") + \"/201607-citibike-tripdata.zip\")"
   ]
  },
  {
   "cell_type": "code",
   "execution_count": null,
   "metadata": {},
   "outputs": [],
   "source": [
    "#File 1 \n",
    "\n",
    "df = pd.read_csv(os.getenv(\"PUIDATA\") + \"/201601-citibike-tripdata.csv\")\n",
    "# df is the dataframe where the content of the csv file is stored\n",
    "df['date'] = pd.to_datetime(df['starttime'])\n",
    "# note that with dataframes I can refer to variables as dictionary keys, \n",
    "# i.e. df['starttime'] or as attributes: df.starttime. \n",
    "#df.head()"
   ]
  },
  {
   "cell_type": "code",
   "execution_count": null,
   "metadata": {},
   "outputs": [],
   "source": [
    "df.drop(['tripduration', 'starttime', 'stoptime', 'start station id',\n",
    "       'start station name', 'start station latitude',\n",
    "       'start station longitude', 'end station id', 'end station name',\n",
    "       'end station latitude', 'end station longitude', 'bikeid',\n",
    "       'birth year', 'gender'], axis=1, inplace=True)\n",
    "\n"
   ]
  },
  {
   "cell_type": "code",
   "execution_count": null,
   "metadata": {},
   "outputs": [],
   "source": [
    "\n",
    "#File 2\n",
    "\n",
    "df2 = pd.read_csv(os.getenv(\"PUIDATA\") + \"/201607-citibike-tripdata.csv')\n",
    "# df is the dataframe where the content of the csv file is stored\n",
    "df2['date'] = pd.to_datetime(df['starttime'])\n",
    "# note that with dataframes I can refer to variables as dictionary keys, \n",
    "# i.e. df['starttime'] or as attributes: df.starttime. \n",
    "df2.head()\n",
    "                  \n",
    "                  \n",
    "                  "
   ]
  },
  {
   "cell_type": "code",
   "execution_count": null,
   "metadata": {},
   "outputs": [],
   "source": [
    "df2.drop(['tripduration', 'starttime', 'stoptime', 'start station id',\n",
    "       'start station name', 'start station latitude',\n",
    "       'start station longitude', 'end station id', 'end station name',\n",
    "       'end station latitude', 'end station longitude', 'bikeid',\n",
    "       'birth year', 'gender'], axis=1, inplace=True)"
   ]
  },
  {
   "cell_type": "code",
   "execution_count": null,
   "metadata": {},
   "outputs": [],
   "source": [
    "df.drop(['tripduration', 'starttime', 'stoptime', 'start station id',\n",
    "       'start station name', 'start station latitude',\n",
    "       'start station longitude', 'end station id', 'end station name',\n",
    "       'end station latitude', 'end station longitude', 'bikeid',\n",
    "       'birth year', 'gender'], axis=1, inplace=True)\n",
    "\n",
    "df2.drop(['tripduration', 'starttime', 'stoptime', 'start station id',\n",
    "       'start station name', 'start station latitude',\n",
    "       'start station longitude', 'end station id', 'end station name',\n",
    "       'end station latitude', 'end station longitude', 'bikeid',\n",
    "       'birth year', 'gender'], axis=1, inplace=True)\n",
    "\n",
    "\n",
    "\n",
    "\n"
   ]
  }
 ],
 "metadata": {
  "kernelspec": {
   "display_name": "Python 3",
   "language": "python",
   "name": "python3"
  },
  "language_info": {
   "codemirror_mode": {
    "name": "ipython",
    "version": 3
   },
   "file_extension": ".py",
   "mimetype": "text/x-python",
   "name": "python",
   "nbconvert_exporter": "python",
   "pygments_lexer": "ipython3",
   "version": "3.6.2"
  }
 },
 "nbformat": 4,
 "nbformat_minor": 2
}
